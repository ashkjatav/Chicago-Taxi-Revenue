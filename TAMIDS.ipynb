{
 "cells": [
  {
   "cell_type": "code",
   "execution_count": 33,
   "metadata": {},
   "outputs": [],
   "source": [
    "import pandas as pd\n",
    "import numpy as np\n",
    "import os\n",
    "import time\n",
    "import math\n",
    "from datetime import date\n",
    "import math\n",
    "import matplotlib.pyplot as plt\n",
    "import seaborn as sns\n",
    "import statsmodels.api as sm\n",
    "# %matplotlib inline \n",
    "from sklearn import preprocessing\n",
    "from sklearn.linear_model import LogisticRegression\n",
    "from sklearn.ensemble import RandomForestClassifier\n",
    "from sklearn.model_selection import cross_validate\n",
    "from sklearn.tree import DecisionTreeClassifier\n",
    "from sklearn.model_selection import cross_val_score\n",
    "from sklearn.neural_network import MLPClassifier\n",
    "from sklearn.model_selection import train_test_split\n",
    "from sklearn.linear_model import LinearRegression\n",
    "from sklearn.metrics import mean_absolute_error, mean_squared_error, r2_score\n",
    "from sklearn.metrics import median_absolute_error\n",
    "from sklearn.metrics import accuracy_score, precision_score, recall_score\n",
    "from sklearn.metrics import f1_score, confusion_matrix, classification_report \n",
    "from sklearn.metrics import roc_curve, auc\n",
    "from sklearn.grid_search import GridSearchCV\n",
    "\n",
    "from sklearn.ensemble import RandomForestRegressor\n",
    "import lightgbm as lgb\n",
    "from Class_tree import DecisionTree"
   ]
  },
  {
   "cell_type": "code",
   "execution_count": 249,
   "metadata": {
    "scrolled": true
   },
   "outputs": [],
   "source": [
    "df = pd.read_csv(\"C:/Users/Ashish/Documents/R/x_train_tam.csv\")\n",
    "df_test= pd.read_csv(\"C:/Users/Ashish/Documents/R/x_test_tam.csv\")"
   ]
  },
  {
   "cell_type": "code",
   "execution_count": 236,
   "metadata": {},
   "outputs": [
    {
     "data": {
      "text/plain": [
       "Card    17\n",
       "Cash    14\n",
       "Name: payment_types, dtype: int64"
      ]
     },
     "execution_count": 236,
     "metadata": {},
     "output_type": "execute_result"
    }
   ],
   "source": [
    "df_test['payment_types'].value_counts()"
   ]
  },
  {
   "cell_type": "code",
   "execution_count": 253,
   "metadata": {},
   "outputs": [],
   "source": [
    "df= df[['trip_seconds', 'trip_miles', 'trip_total', 'companies',\n",
    "       'pickup_latitude', 'pickup_longitude', 'dropoff_latitude',\n",
    "       'dropoff_longitude', 'hourfloat', 'hourfloat_sin', 'hourfloat_cos','payment_types',\n",
    "        'day_num', 'day_sin','day_cos','yearfloat', 'year_cos','year_sin', 'monthfloat', \n",
    "        'month_cos', 'month_sin', 'PRCP', 'SNWD', 'SNOW', 'TMAX', 'AWND', 'day_cat', 'Special_day']]\n",
    "df_test= df_test[['trip_seconds', 'trip_miles', 'trip_total', 'companies',\n",
    "       'pickup_latitude', 'pickup_longitude', 'dropoff_latitude', 'payment_types',\n",
    "       'dropoff_longitude', 'hourfloat','hourfloat_sin', 'hourfloat_cos','day_num', 'day_sin',\n",
    "       'day_cos', 'yearfloat', 'year_cos','year_sin', 'monthfloat', 'month_cos', 'month_sin',\n",
    "        'PRCP', 'SNWD', 'SNOW', 'TMAX', 'AWND', 'day_cat', 'Special_day']]"
   ]
  },
  {
   "cell_type": "code",
   "execution_count": 175,
   "metadata": {
    "scrolled": true
   },
   "outputs": [
    {
     "ename": "KeyError",
     "evalue": "'payment_types'",
     "output_type": "error",
     "traceback": [
      "\u001b[1;31m---------------------------------------------------------------------------\u001b[0m",
      "\u001b[1;31mKeyError\u001b[0m                                  Traceback (most recent call last)",
      "\u001b[1;32m~\\AppData\\Roaming\\Python\\Python36\\site-packages\\pandas\\core\\indexes\\base.py\u001b[0m in \u001b[0;36mget_loc\u001b[1;34m(self, key, method, tolerance)\u001b[0m\n\u001b[0;32m   2524\u001b[0m             \u001b[1;32mtry\u001b[0m\u001b[1;33m:\u001b[0m\u001b[1;33m\u001b[0m\u001b[0m\n\u001b[1;32m-> 2525\u001b[1;33m                 \u001b[1;32mreturn\u001b[0m \u001b[0mself\u001b[0m\u001b[1;33m.\u001b[0m\u001b[0m_engine\u001b[0m\u001b[1;33m.\u001b[0m\u001b[0mget_loc\u001b[0m\u001b[1;33m(\u001b[0m\u001b[0mkey\u001b[0m\u001b[1;33m)\u001b[0m\u001b[1;33m\u001b[0m\u001b[0m\n\u001b[0m\u001b[0;32m   2526\u001b[0m             \u001b[1;32mexcept\u001b[0m \u001b[0mKeyError\u001b[0m\u001b[1;33m:\u001b[0m\u001b[1;33m\u001b[0m\u001b[0m\n",
      "\u001b[1;32mpandas\\_libs\\index.pyx\u001b[0m in \u001b[0;36mpandas._libs.index.IndexEngine.get_loc\u001b[1;34m()\u001b[0m\n",
      "\u001b[1;32mpandas\\_libs\\index.pyx\u001b[0m in \u001b[0;36mpandas._libs.index.IndexEngine.get_loc\u001b[1;34m()\u001b[0m\n",
      "\u001b[1;32mpandas\\_libs\\hashtable_class_helper.pxi\u001b[0m in \u001b[0;36mpandas._libs.hashtable.PyObjectHashTable.get_item\u001b[1;34m()\u001b[0m\n",
      "\u001b[1;32mpandas\\_libs\\hashtable_class_helper.pxi\u001b[0m in \u001b[0;36mpandas._libs.hashtable.PyObjectHashTable.get_item\u001b[1;34m()\u001b[0m\n",
      "\u001b[1;31mKeyError\u001b[0m: 'payment_types'",
      "\nDuring handling of the above exception, another exception occurred:\n",
      "\u001b[1;31mKeyError\u001b[0m                                  Traceback (most recent call last)",
      "\u001b[1;32m<ipython-input-175-70fd2a0cb83c>\u001b[0m in \u001b[0;36m<module>\u001b[1;34m()\u001b[0m\n\u001b[1;32m----> 1\u001b[1;33m \u001b[0mdf\u001b[0m\u001b[1;33m[\u001b[0m\u001b[1;34m'payment_types'\u001b[0m\u001b[1;33m]\u001b[0m\u001b[1;33m.\u001b[0m\u001b[0mvalue_counts\u001b[0m\u001b[1;33m(\u001b[0m\u001b[1;33m)\u001b[0m\u001b[1;33m\u001b[0m\u001b[0m\n\u001b[0m",
      "\u001b[1;32m~\\AppData\\Roaming\\Python\\Python36\\site-packages\\pandas\\core\\frame.py\u001b[0m in \u001b[0;36m__getitem__\u001b[1;34m(self, key)\u001b[0m\n\u001b[0;32m   2137\u001b[0m             \u001b[1;32mreturn\u001b[0m \u001b[0mself\u001b[0m\u001b[1;33m.\u001b[0m\u001b[0m_getitem_multilevel\u001b[0m\u001b[1;33m(\u001b[0m\u001b[0mkey\u001b[0m\u001b[1;33m)\u001b[0m\u001b[1;33m\u001b[0m\u001b[0m\n\u001b[0;32m   2138\u001b[0m         \u001b[1;32melse\u001b[0m\u001b[1;33m:\u001b[0m\u001b[1;33m\u001b[0m\u001b[0m\n\u001b[1;32m-> 2139\u001b[1;33m             \u001b[1;32mreturn\u001b[0m \u001b[0mself\u001b[0m\u001b[1;33m.\u001b[0m\u001b[0m_getitem_column\u001b[0m\u001b[1;33m(\u001b[0m\u001b[0mkey\u001b[0m\u001b[1;33m)\u001b[0m\u001b[1;33m\u001b[0m\u001b[0m\n\u001b[0m\u001b[0;32m   2140\u001b[0m \u001b[1;33m\u001b[0m\u001b[0m\n\u001b[0;32m   2141\u001b[0m     \u001b[1;32mdef\u001b[0m \u001b[0m_getitem_column\u001b[0m\u001b[1;33m(\u001b[0m\u001b[0mself\u001b[0m\u001b[1;33m,\u001b[0m \u001b[0mkey\u001b[0m\u001b[1;33m)\u001b[0m\u001b[1;33m:\u001b[0m\u001b[1;33m\u001b[0m\u001b[0m\n",
      "\u001b[1;32m~\\AppData\\Roaming\\Python\\Python36\\site-packages\\pandas\\core\\frame.py\u001b[0m in \u001b[0;36m_getitem_column\u001b[1;34m(self, key)\u001b[0m\n\u001b[0;32m   2144\u001b[0m         \u001b[1;31m# get column\u001b[0m\u001b[1;33m\u001b[0m\u001b[1;33m\u001b[0m\u001b[0m\n\u001b[0;32m   2145\u001b[0m         \u001b[1;32mif\u001b[0m \u001b[0mself\u001b[0m\u001b[1;33m.\u001b[0m\u001b[0mcolumns\u001b[0m\u001b[1;33m.\u001b[0m\u001b[0mis_unique\u001b[0m\u001b[1;33m:\u001b[0m\u001b[1;33m\u001b[0m\u001b[0m\n\u001b[1;32m-> 2146\u001b[1;33m             \u001b[1;32mreturn\u001b[0m \u001b[0mself\u001b[0m\u001b[1;33m.\u001b[0m\u001b[0m_get_item_cache\u001b[0m\u001b[1;33m(\u001b[0m\u001b[0mkey\u001b[0m\u001b[1;33m)\u001b[0m\u001b[1;33m\u001b[0m\u001b[0m\n\u001b[0m\u001b[0;32m   2147\u001b[0m \u001b[1;33m\u001b[0m\u001b[0m\n\u001b[0;32m   2148\u001b[0m         \u001b[1;31m# duplicate columns & possible reduce dimensionality\u001b[0m\u001b[1;33m\u001b[0m\u001b[1;33m\u001b[0m\u001b[0m\n",
      "\u001b[1;32m~\\AppData\\Roaming\\Python\\Python36\\site-packages\\pandas\\core\\generic.py\u001b[0m in \u001b[0;36m_get_item_cache\u001b[1;34m(self, item)\u001b[0m\n\u001b[0;32m   1840\u001b[0m         \u001b[0mres\u001b[0m \u001b[1;33m=\u001b[0m \u001b[0mcache\u001b[0m\u001b[1;33m.\u001b[0m\u001b[0mget\u001b[0m\u001b[1;33m(\u001b[0m\u001b[0mitem\u001b[0m\u001b[1;33m)\u001b[0m\u001b[1;33m\u001b[0m\u001b[0m\n\u001b[0;32m   1841\u001b[0m         \u001b[1;32mif\u001b[0m \u001b[0mres\u001b[0m \u001b[1;32mis\u001b[0m \u001b[1;32mNone\u001b[0m\u001b[1;33m:\u001b[0m\u001b[1;33m\u001b[0m\u001b[0m\n\u001b[1;32m-> 1842\u001b[1;33m             \u001b[0mvalues\u001b[0m \u001b[1;33m=\u001b[0m \u001b[0mself\u001b[0m\u001b[1;33m.\u001b[0m\u001b[0m_data\u001b[0m\u001b[1;33m.\u001b[0m\u001b[0mget\u001b[0m\u001b[1;33m(\u001b[0m\u001b[0mitem\u001b[0m\u001b[1;33m)\u001b[0m\u001b[1;33m\u001b[0m\u001b[0m\n\u001b[0m\u001b[0;32m   1843\u001b[0m             \u001b[0mres\u001b[0m \u001b[1;33m=\u001b[0m \u001b[0mself\u001b[0m\u001b[1;33m.\u001b[0m\u001b[0m_box_item_values\u001b[0m\u001b[1;33m(\u001b[0m\u001b[0mitem\u001b[0m\u001b[1;33m,\u001b[0m \u001b[0mvalues\u001b[0m\u001b[1;33m)\u001b[0m\u001b[1;33m\u001b[0m\u001b[0m\n\u001b[0;32m   1844\u001b[0m             \u001b[0mcache\u001b[0m\u001b[1;33m[\u001b[0m\u001b[0mitem\u001b[0m\u001b[1;33m]\u001b[0m \u001b[1;33m=\u001b[0m \u001b[0mres\u001b[0m\u001b[1;33m\u001b[0m\u001b[0m\n",
      "\u001b[1;32m~\\AppData\\Roaming\\Python\\Python36\\site-packages\\pandas\\core\\internals.py\u001b[0m in \u001b[0;36mget\u001b[1;34m(self, item, fastpath)\u001b[0m\n\u001b[0;32m   3841\u001b[0m \u001b[1;33m\u001b[0m\u001b[0m\n\u001b[0;32m   3842\u001b[0m             \u001b[1;32mif\u001b[0m \u001b[1;32mnot\u001b[0m \u001b[0misna\u001b[0m\u001b[1;33m(\u001b[0m\u001b[0mitem\u001b[0m\u001b[1;33m)\u001b[0m\u001b[1;33m:\u001b[0m\u001b[1;33m\u001b[0m\u001b[0m\n\u001b[1;32m-> 3843\u001b[1;33m                 \u001b[0mloc\u001b[0m \u001b[1;33m=\u001b[0m \u001b[0mself\u001b[0m\u001b[1;33m.\u001b[0m\u001b[0mitems\u001b[0m\u001b[1;33m.\u001b[0m\u001b[0mget_loc\u001b[0m\u001b[1;33m(\u001b[0m\u001b[0mitem\u001b[0m\u001b[1;33m)\u001b[0m\u001b[1;33m\u001b[0m\u001b[0m\n\u001b[0m\u001b[0;32m   3844\u001b[0m             \u001b[1;32melse\u001b[0m\u001b[1;33m:\u001b[0m\u001b[1;33m\u001b[0m\u001b[0m\n\u001b[0;32m   3845\u001b[0m                 \u001b[0mindexer\u001b[0m \u001b[1;33m=\u001b[0m \u001b[0mnp\u001b[0m\u001b[1;33m.\u001b[0m\u001b[0marange\u001b[0m\u001b[1;33m(\u001b[0m\u001b[0mlen\u001b[0m\u001b[1;33m(\u001b[0m\u001b[0mself\u001b[0m\u001b[1;33m.\u001b[0m\u001b[0mitems\u001b[0m\u001b[1;33m)\u001b[0m\u001b[1;33m)\u001b[0m\u001b[1;33m[\u001b[0m\u001b[0misna\u001b[0m\u001b[1;33m(\u001b[0m\u001b[0mself\u001b[0m\u001b[1;33m.\u001b[0m\u001b[0mitems\u001b[0m\u001b[1;33m)\u001b[0m\u001b[1;33m]\u001b[0m\u001b[1;33m\u001b[0m\u001b[0m\n",
      "\u001b[1;32m~\\AppData\\Roaming\\Python\\Python36\\site-packages\\pandas\\core\\indexes\\base.py\u001b[0m in \u001b[0;36mget_loc\u001b[1;34m(self, key, method, tolerance)\u001b[0m\n\u001b[0;32m   2525\u001b[0m                 \u001b[1;32mreturn\u001b[0m \u001b[0mself\u001b[0m\u001b[1;33m.\u001b[0m\u001b[0m_engine\u001b[0m\u001b[1;33m.\u001b[0m\u001b[0mget_loc\u001b[0m\u001b[1;33m(\u001b[0m\u001b[0mkey\u001b[0m\u001b[1;33m)\u001b[0m\u001b[1;33m\u001b[0m\u001b[0m\n\u001b[0;32m   2526\u001b[0m             \u001b[1;32mexcept\u001b[0m \u001b[0mKeyError\u001b[0m\u001b[1;33m:\u001b[0m\u001b[1;33m\u001b[0m\u001b[0m\n\u001b[1;32m-> 2527\u001b[1;33m                 \u001b[1;32mreturn\u001b[0m \u001b[0mself\u001b[0m\u001b[1;33m.\u001b[0m\u001b[0m_engine\u001b[0m\u001b[1;33m.\u001b[0m\u001b[0mget_loc\u001b[0m\u001b[1;33m(\u001b[0m\u001b[0mself\u001b[0m\u001b[1;33m.\u001b[0m\u001b[0m_maybe_cast_indexer\u001b[0m\u001b[1;33m(\u001b[0m\u001b[0mkey\u001b[0m\u001b[1;33m)\u001b[0m\u001b[1;33m)\u001b[0m\u001b[1;33m\u001b[0m\u001b[0m\n\u001b[0m\u001b[0;32m   2528\u001b[0m \u001b[1;33m\u001b[0m\u001b[0m\n\u001b[0;32m   2529\u001b[0m         \u001b[0mindexer\u001b[0m \u001b[1;33m=\u001b[0m \u001b[0mself\u001b[0m\u001b[1;33m.\u001b[0m\u001b[0mget_indexer\u001b[0m\u001b[1;33m(\u001b[0m\u001b[1;33m[\u001b[0m\u001b[0mkey\u001b[0m\u001b[1;33m]\u001b[0m\u001b[1;33m,\u001b[0m \u001b[0mmethod\u001b[0m\u001b[1;33m=\u001b[0m\u001b[0mmethod\u001b[0m\u001b[1;33m,\u001b[0m \u001b[0mtolerance\u001b[0m\u001b[1;33m=\u001b[0m\u001b[0mtolerance\u001b[0m\u001b[1;33m)\u001b[0m\u001b[1;33m\u001b[0m\u001b[0m\n",
      "\u001b[1;32mpandas\\_libs\\index.pyx\u001b[0m in \u001b[0;36mpandas._libs.index.IndexEngine.get_loc\u001b[1;34m()\u001b[0m\n",
      "\u001b[1;32mpandas\\_libs\\index.pyx\u001b[0m in \u001b[0;36mpandas._libs.index.IndexEngine.get_loc\u001b[1;34m()\u001b[0m\n",
      "\u001b[1;32mpandas\\_libs\\hashtable_class_helper.pxi\u001b[0m in \u001b[0;36mpandas._libs.hashtable.PyObjectHashTable.get_item\u001b[1;34m()\u001b[0m\n",
      "\u001b[1;32mpandas\\_libs\\hashtable_class_helper.pxi\u001b[0m in \u001b[0;36mpandas._libs.hashtable.PyObjectHashTable.get_item\u001b[1;34m()\u001b[0m\n",
      "\u001b[1;31mKeyError\u001b[0m: 'payment_types'"
     ]
    }
   ],
   "source": [
    "df['payment_types'].value_counts()"
   ]
  },
  {
   "cell_type": "code",
   "execution_count": 135,
   "metadata": {
    "collapsed": true
   },
   "outputs": [
    {
     "ename": "KeyError",
     "evalue": "'payment_types'",
     "output_type": "error",
     "traceback": [
      "\u001b[1;31m---------------------------------------------------------------------------\u001b[0m",
      "\u001b[1;31mKeyError\u001b[0m                                  Traceback (most recent call last)",
      "\u001b[1;32m~\\AppData\\Roaming\\Python\\Python36\\site-packages\\pandas\\core\\indexes\\base.py\u001b[0m in \u001b[0;36mget_loc\u001b[1;34m(self, key, method, tolerance)\u001b[0m\n\u001b[0;32m   2524\u001b[0m             \u001b[1;32mtry\u001b[0m\u001b[1;33m:\u001b[0m\u001b[1;33m\u001b[0m\u001b[0m\n\u001b[1;32m-> 2525\u001b[1;33m                 \u001b[1;32mreturn\u001b[0m \u001b[0mself\u001b[0m\u001b[1;33m.\u001b[0m\u001b[0m_engine\u001b[0m\u001b[1;33m.\u001b[0m\u001b[0mget_loc\u001b[0m\u001b[1;33m(\u001b[0m\u001b[0mkey\u001b[0m\u001b[1;33m)\u001b[0m\u001b[1;33m\u001b[0m\u001b[0m\n\u001b[0m\u001b[0;32m   2526\u001b[0m             \u001b[1;32mexcept\u001b[0m \u001b[0mKeyError\u001b[0m\u001b[1;33m:\u001b[0m\u001b[1;33m\u001b[0m\u001b[0m\n",
      "\u001b[1;32mpandas\\_libs\\index.pyx\u001b[0m in \u001b[0;36mpandas._libs.index.IndexEngine.get_loc\u001b[1;34m()\u001b[0m\n",
      "\u001b[1;32mpandas\\_libs\\index.pyx\u001b[0m in \u001b[0;36mpandas._libs.index.IndexEngine.get_loc\u001b[1;34m()\u001b[0m\n",
      "\u001b[1;32mpandas\\_libs\\hashtable_class_helper.pxi\u001b[0m in \u001b[0;36mpandas._libs.hashtable.PyObjectHashTable.get_item\u001b[1;34m()\u001b[0m\n",
      "\u001b[1;32mpandas\\_libs\\hashtable_class_helper.pxi\u001b[0m in \u001b[0;36mpandas._libs.hashtable.PyObjectHashTable.get_item\u001b[1;34m()\u001b[0m\n",
      "\u001b[1;31mKeyError\u001b[0m: 'payment_types'",
      "\nDuring handling of the above exception, another exception occurred:\n",
      "\u001b[1;31mKeyError\u001b[0m                                  Traceback (most recent call last)",
      "\u001b[1;32m<ipython-input-135-e4e286825b5a>\u001b[0m in \u001b[0;36m<module>\u001b[1;34m()\u001b[0m\n\u001b[0;32m      4\u001b[0m \u001b[0mcat2_map\u001b[0m\u001b[1;33m=\u001b[0m \u001b[1;33m{\u001b[0m\u001b[1;34m'Sunday'\u001b[0m\u001b[1;33m:\u001b[0m\u001b[1;36m1\u001b[0m\u001b[1;33m,\u001b[0m \u001b[1;34m'Monday'\u001b[0m\u001b[1;33m:\u001b[0m\u001b[1;36m2\u001b[0m\u001b[1;33m,\u001b[0m \u001b[1;34m'Tuesday'\u001b[0m\u001b[1;33m:\u001b[0m\u001b[1;36m3\u001b[0m\u001b[1;33m,\u001b[0m \u001b[1;34m'Wednesday'\u001b[0m\u001b[1;33m:\u001b[0m\u001b[1;36m4\u001b[0m\u001b[1;33m,\u001b[0m \u001b[1;34m'Thursday'\u001b[0m\u001b[1;33m:\u001b[0m\u001b[1;36m5\u001b[0m\u001b[1;33m,\u001b[0m \u001b[1;34m'Friday'\u001b[0m\u001b[1;33m:\u001b[0m\u001b[1;36m6\u001b[0m\u001b[1;33m,\u001b[0m \u001b[1;34m'Saturday'\u001b[0m\u001b[1;33m:\u001b[0m\u001b[1;36m7\u001b[0m\u001b[1;33m}\u001b[0m\u001b[1;33m\u001b[0m\u001b[0m\n\u001b[0;32m      5\u001b[0m \u001b[0mdf\u001b[0m\u001b[1;33m[\u001b[0m\u001b[1;34m'companies'\u001b[0m\u001b[1;33m]\u001b[0m\u001b[1;33m=\u001b[0m\u001b[0mdf\u001b[0m\u001b[1;33m[\u001b[0m\u001b[1;34m'companies'\u001b[0m\u001b[1;33m]\u001b[0m\u001b[1;33m.\u001b[0m\u001b[0mmap\u001b[0m\u001b[1;33m(\u001b[0m\u001b[0mcat_map\u001b[0m\u001b[1;33m)\u001b[0m\u001b[1;33m\u001b[0m\u001b[0m\n\u001b[1;32m----> 6\u001b[1;33m \u001b[0mdf\u001b[0m\u001b[1;33m[\u001b[0m\u001b[1;34m'payment_types'\u001b[0m\u001b[1;33m]\u001b[0m\u001b[1;33m=\u001b[0m\u001b[0mdf\u001b[0m\u001b[1;33m[\u001b[0m\u001b[1;34m'payment_types'\u001b[0m\u001b[1;33m]\u001b[0m\u001b[1;33m.\u001b[0m\u001b[0mmap\u001b[0m\u001b[1;33m(\u001b[0m\u001b[0mcat1_map\u001b[0m\u001b[1;33m)\u001b[0m\u001b[1;33m\u001b[0m\u001b[0m\n\u001b[0m\u001b[0;32m      7\u001b[0m \u001b[0mdf\u001b[0m\u001b[1;33m[\u001b[0m\u001b[1;34m'day_cat'\u001b[0m\u001b[1;33m]\u001b[0m\u001b[1;33m=\u001b[0m \u001b[0mdf\u001b[0m\u001b[1;33m[\u001b[0m\u001b[1;34m'day_cat'\u001b[0m\u001b[1;33m]\u001b[0m\u001b[1;33m.\u001b[0m\u001b[0mmap\u001b[0m\u001b[1;33m(\u001b[0m\u001b[0mcat2_map\u001b[0m\u001b[1;33m)\u001b[0m\u001b[1;33m\u001b[0m\u001b[0m\n\u001b[0;32m      8\u001b[0m \u001b[1;33m\u001b[0m\u001b[0m\n",
      "\u001b[1;32m~\\AppData\\Roaming\\Python\\Python36\\site-packages\\pandas\\core\\frame.py\u001b[0m in \u001b[0;36m__getitem__\u001b[1;34m(self, key)\u001b[0m\n\u001b[0;32m   2137\u001b[0m             \u001b[1;32mreturn\u001b[0m \u001b[0mself\u001b[0m\u001b[1;33m.\u001b[0m\u001b[0m_getitem_multilevel\u001b[0m\u001b[1;33m(\u001b[0m\u001b[0mkey\u001b[0m\u001b[1;33m)\u001b[0m\u001b[1;33m\u001b[0m\u001b[0m\n\u001b[0;32m   2138\u001b[0m         \u001b[1;32melse\u001b[0m\u001b[1;33m:\u001b[0m\u001b[1;33m\u001b[0m\u001b[0m\n\u001b[1;32m-> 2139\u001b[1;33m             \u001b[1;32mreturn\u001b[0m \u001b[0mself\u001b[0m\u001b[1;33m.\u001b[0m\u001b[0m_getitem_column\u001b[0m\u001b[1;33m(\u001b[0m\u001b[0mkey\u001b[0m\u001b[1;33m)\u001b[0m\u001b[1;33m\u001b[0m\u001b[0m\n\u001b[0m\u001b[0;32m   2140\u001b[0m \u001b[1;33m\u001b[0m\u001b[0m\n\u001b[0;32m   2141\u001b[0m     \u001b[1;32mdef\u001b[0m \u001b[0m_getitem_column\u001b[0m\u001b[1;33m(\u001b[0m\u001b[0mself\u001b[0m\u001b[1;33m,\u001b[0m \u001b[0mkey\u001b[0m\u001b[1;33m)\u001b[0m\u001b[1;33m:\u001b[0m\u001b[1;33m\u001b[0m\u001b[0m\n",
      "\u001b[1;32m~\\AppData\\Roaming\\Python\\Python36\\site-packages\\pandas\\core\\frame.py\u001b[0m in \u001b[0;36m_getitem_column\u001b[1;34m(self, key)\u001b[0m\n\u001b[0;32m   2144\u001b[0m         \u001b[1;31m# get column\u001b[0m\u001b[1;33m\u001b[0m\u001b[1;33m\u001b[0m\u001b[0m\n\u001b[0;32m   2145\u001b[0m         \u001b[1;32mif\u001b[0m \u001b[0mself\u001b[0m\u001b[1;33m.\u001b[0m\u001b[0mcolumns\u001b[0m\u001b[1;33m.\u001b[0m\u001b[0mis_unique\u001b[0m\u001b[1;33m:\u001b[0m\u001b[1;33m\u001b[0m\u001b[0m\n\u001b[1;32m-> 2146\u001b[1;33m             \u001b[1;32mreturn\u001b[0m \u001b[0mself\u001b[0m\u001b[1;33m.\u001b[0m\u001b[0m_get_item_cache\u001b[0m\u001b[1;33m(\u001b[0m\u001b[0mkey\u001b[0m\u001b[1;33m)\u001b[0m\u001b[1;33m\u001b[0m\u001b[0m\n\u001b[0m\u001b[0;32m   2147\u001b[0m \u001b[1;33m\u001b[0m\u001b[0m\n\u001b[0;32m   2148\u001b[0m         \u001b[1;31m# duplicate columns & possible reduce dimensionality\u001b[0m\u001b[1;33m\u001b[0m\u001b[1;33m\u001b[0m\u001b[0m\n",
      "\u001b[1;32m~\\AppData\\Roaming\\Python\\Python36\\site-packages\\pandas\\core\\generic.py\u001b[0m in \u001b[0;36m_get_item_cache\u001b[1;34m(self, item)\u001b[0m\n\u001b[0;32m   1840\u001b[0m         \u001b[0mres\u001b[0m \u001b[1;33m=\u001b[0m \u001b[0mcache\u001b[0m\u001b[1;33m.\u001b[0m\u001b[0mget\u001b[0m\u001b[1;33m(\u001b[0m\u001b[0mitem\u001b[0m\u001b[1;33m)\u001b[0m\u001b[1;33m\u001b[0m\u001b[0m\n\u001b[0;32m   1841\u001b[0m         \u001b[1;32mif\u001b[0m \u001b[0mres\u001b[0m \u001b[1;32mis\u001b[0m \u001b[1;32mNone\u001b[0m\u001b[1;33m:\u001b[0m\u001b[1;33m\u001b[0m\u001b[0m\n\u001b[1;32m-> 1842\u001b[1;33m             \u001b[0mvalues\u001b[0m \u001b[1;33m=\u001b[0m \u001b[0mself\u001b[0m\u001b[1;33m.\u001b[0m\u001b[0m_data\u001b[0m\u001b[1;33m.\u001b[0m\u001b[0mget\u001b[0m\u001b[1;33m(\u001b[0m\u001b[0mitem\u001b[0m\u001b[1;33m)\u001b[0m\u001b[1;33m\u001b[0m\u001b[0m\n\u001b[0m\u001b[0;32m   1843\u001b[0m             \u001b[0mres\u001b[0m \u001b[1;33m=\u001b[0m \u001b[0mself\u001b[0m\u001b[1;33m.\u001b[0m\u001b[0m_box_item_values\u001b[0m\u001b[1;33m(\u001b[0m\u001b[0mitem\u001b[0m\u001b[1;33m,\u001b[0m \u001b[0mvalues\u001b[0m\u001b[1;33m)\u001b[0m\u001b[1;33m\u001b[0m\u001b[0m\n\u001b[0;32m   1844\u001b[0m             \u001b[0mcache\u001b[0m\u001b[1;33m[\u001b[0m\u001b[0mitem\u001b[0m\u001b[1;33m]\u001b[0m \u001b[1;33m=\u001b[0m \u001b[0mres\u001b[0m\u001b[1;33m\u001b[0m\u001b[0m\n",
      "\u001b[1;32m~\\AppData\\Roaming\\Python\\Python36\\site-packages\\pandas\\core\\internals.py\u001b[0m in \u001b[0;36mget\u001b[1;34m(self, item, fastpath)\u001b[0m\n\u001b[0;32m   3841\u001b[0m \u001b[1;33m\u001b[0m\u001b[0m\n\u001b[0;32m   3842\u001b[0m             \u001b[1;32mif\u001b[0m \u001b[1;32mnot\u001b[0m \u001b[0misna\u001b[0m\u001b[1;33m(\u001b[0m\u001b[0mitem\u001b[0m\u001b[1;33m)\u001b[0m\u001b[1;33m:\u001b[0m\u001b[1;33m\u001b[0m\u001b[0m\n\u001b[1;32m-> 3843\u001b[1;33m                 \u001b[0mloc\u001b[0m \u001b[1;33m=\u001b[0m \u001b[0mself\u001b[0m\u001b[1;33m.\u001b[0m\u001b[0mitems\u001b[0m\u001b[1;33m.\u001b[0m\u001b[0mget_loc\u001b[0m\u001b[1;33m(\u001b[0m\u001b[0mitem\u001b[0m\u001b[1;33m)\u001b[0m\u001b[1;33m\u001b[0m\u001b[0m\n\u001b[0m\u001b[0;32m   3844\u001b[0m             \u001b[1;32melse\u001b[0m\u001b[1;33m:\u001b[0m\u001b[1;33m\u001b[0m\u001b[0m\n\u001b[0;32m   3845\u001b[0m                 \u001b[0mindexer\u001b[0m \u001b[1;33m=\u001b[0m \u001b[0mnp\u001b[0m\u001b[1;33m.\u001b[0m\u001b[0marange\u001b[0m\u001b[1;33m(\u001b[0m\u001b[0mlen\u001b[0m\u001b[1;33m(\u001b[0m\u001b[0mself\u001b[0m\u001b[1;33m.\u001b[0m\u001b[0mitems\u001b[0m\u001b[1;33m)\u001b[0m\u001b[1;33m)\u001b[0m\u001b[1;33m[\u001b[0m\u001b[0misna\u001b[0m\u001b[1;33m(\u001b[0m\u001b[0mself\u001b[0m\u001b[1;33m.\u001b[0m\u001b[0mitems\u001b[0m\u001b[1;33m)\u001b[0m\u001b[1;33m]\u001b[0m\u001b[1;33m\u001b[0m\u001b[0m\n",
      "\u001b[1;32m~\\AppData\\Roaming\\Python\\Python36\\site-packages\\pandas\\core\\indexes\\base.py\u001b[0m in \u001b[0;36mget_loc\u001b[1;34m(self, key, method, tolerance)\u001b[0m\n\u001b[0;32m   2525\u001b[0m                 \u001b[1;32mreturn\u001b[0m \u001b[0mself\u001b[0m\u001b[1;33m.\u001b[0m\u001b[0m_engine\u001b[0m\u001b[1;33m.\u001b[0m\u001b[0mget_loc\u001b[0m\u001b[1;33m(\u001b[0m\u001b[0mkey\u001b[0m\u001b[1;33m)\u001b[0m\u001b[1;33m\u001b[0m\u001b[0m\n\u001b[0;32m   2526\u001b[0m             \u001b[1;32mexcept\u001b[0m \u001b[0mKeyError\u001b[0m\u001b[1;33m:\u001b[0m\u001b[1;33m\u001b[0m\u001b[0m\n\u001b[1;32m-> 2527\u001b[1;33m                 \u001b[1;32mreturn\u001b[0m \u001b[0mself\u001b[0m\u001b[1;33m.\u001b[0m\u001b[0m_engine\u001b[0m\u001b[1;33m.\u001b[0m\u001b[0mget_loc\u001b[0m\u001b[1;33m(\u001b[0m\u001b[0mself\u001b[0m\u001b[1;33m.\u001b[0m\u001b[0m_maybe_cast_indexer\u001b[0m\u001b[1;33m(\u001b[0m\u001b[0mkey\u001b[0m\u001b[1;33m)\u001b[0m\u001b[1;33m)\u001b[0m\u001b[1;33m\u001b[0m\u001b[0m\n\u001b[0m\u001b[0;32m   2528\u001b[0m \u001b[1;33m\u001b[0m\u001b[0m\n\u001b[0;32m   2529\u001b[0m         \u001b[0mindexer\u001b[0m \u001b[1;33m=\u001b[0m \u001b[0mself\u001b[0m\u001b[1;33m.\u001b[0m\u001b[0mget_indexer\u001b[0m\u001b[1;33m(\u001b[0m\u001b[1;33m[\u001b[0m\u001b[0mkey\u001b[0m\u001b[1;33m]\u001b[0m\u001b[1;33m,\u001b[0m \u001b[0mmethod\u001b[0m\u001b[1;33m=\u001b[0m\u001b[0mmethod\u001b[0m\u001b[1;33m,\u001b[0m \u001b[0mtolerance\u001b[0m\u001b[1;33m=\u001b[0m\u001b[0mtolerance\u001b[0m\u001b[1;33m)\u001b[0m\u001b[1;33m\u001b[0m\u001b[0m\n",
      "\u001b[1;32mpandas\\_libs\\index.pyx\u001b[0m in \u001b[0;36mpandas._libs.index.IndexEngine.get_loc\u001b[1;34m()\u001b[0m\n",
      "\u001b[1;32mpandas\\_libs\\index.pyx\u001b[0m in \u001b[0;36mpandas._libs.index.IndexEngine.get_loc\u001b[1;34m()\u001b[0m\n",
      "\u001b[1;32mpandas\\_libs\\hashtable_class_helper.pxi\u001b[0m in \u001b[0;36mpandas._libs.hashtable.PyObjectHashTable.get_item\u001b[1;34m()\u001b[0m\n",
      "\u001b[1;32mpandas\\_libs\\hashtable_class_helper.pxi\u001b[0m in \u001b[0;36mpandas._libs.hashtable.PyObjectHashTable.get_item\u001b[1;34m()\u001b[0m\n",
      "\u001b[1;31mKeyError\u001b[0m: 'payment_types'"
     ]
    }
   ],
   "source": [
    "cat_map={'Taxi Affiliation Services':1,'Dispatch Taxi Affiliation':2,\\\n",
    " 'Choice Taxi Association':3,'Northwest Management LLC':4,\\\n",
    " 'KOAM Taxi Association':5,'other':6}\n",
    "\n",
    "cat1_map= {'Cash':1,'Card':2,'Other':3}\n",
    "cat2_map= {'Sunday':1, 'Monday':2, 'Tuesday':3, 'Wednesday':4, 'Thursday':5, 'Friday':6, 'Saturday':7}\n",
    "df['companies']=df['companies'].map(cat_map)\n",
    "df['payment_types']=df['payment_types'].map(cat1_map)\n",
    "df['day_cat']= df['day_cat'].map(cat2_map)\n",
    "\n",
    "df_test['companies']=df_test['companies'].map(cat_map)\n",
    "df_test['payment_types']=df_test['payment_types'].map(cat1_map)\n",
    "df_test['day_cat']= df_test['day_cat'].map(cat2_map)"
   ]
  },
  {
   "cell_type": "code",
   "execution_count": 254,
   "metadata": {},
   "outputs": [],
   "source": [
    "df_nominal= df[['companies', 'day_cat', 'Special_day', 'payment_types']]\n",
    "df_encoded=pd.get_dummies(df_nominal,columns=['companies', 'day_cat', 'Special_day', 'payment_types'],drop_first=False)\n",
    "\n",
    "df_nominal_test= df_test[['companies','day_cat' , 'Special_day', 'payment_types']]\n",
    "df_encoded_test=pd.get_dummies(df_nominal_test,columns=['companies', 'day_cat', 'Special_day', 'payment_types'],drop_first=False)"
   ]
  },
  {
   "cell_type": "code",
   "execution_count": 257,
   "metadata": {},
   "outputs": [],
   "source": [
    "df_interval=df.drop(['companies', 'day_cat', 'Special_day', 'payment_types']\\\n",
    "                      ,axis=1).copy()\n",
    "df_interval= df_interval.apply(lambda x: x.fillna(x.mean()),axis=0)\n",
    "\n",
    "df_interval_test=df_test.drop(['companies', 'day_cat', 'Special_day', 'payment_types']\\\n",
    "                      ,axis=1).copy()\n",
    "df_interval_test= df_interval_test.apply(lambda x: x.fillna(x.mean()),axis=0)"
   ]
  },
  {
   "cell_type": "code",
   "execution_count": 258,
   "metadata": {},
   "outputs": [],
   "source": [
    "df_final=pd.concat([df_interval,df_encoded],ignore_index=False,axis=1)\n",
    "df_final.head()\n",
    "\n",
    "df_final_test=pd.concat([df_interval_test,df_encoded_test],ignore_index=False,axis=1)"
   ]
  },
  {
   "cell_type": "code",
   "execution_count": 259,
   "metadata": {},
   "outputs": [
    {
     "data": {
      "text/plain": [
       "Index(['trip_seconds', 'trip_miles', 'trip_total', 'pickup_latitude',\n",
       "       'pickup_longitude', 'dropoff_latitude', 'dropoff_longitude',\n",
       "       'hourfloat', 'hourfloat_sin', 'hourfloat_cos', 'day_num', 'day_sin',\n",
       "       'day_cos', 'yearfloat', 'year_cos', 'year_sin', 'monthfloat',\n",
       "       'month_cos', 'month_sin', 'PRCP', 'SNWD', 'SNOW', 'TMAX', 'AWND',\n",
       "       'companies_Choice Taxi Association',\n",
       "       'companies_Dispatch Taxi Affiliation',\n",
       "       'companies_KOAM Taxi Association', 'companies_Northwest Management LLC',\n",
       "       'companies_Taxi Affiliation Services', 'companies_other',\n",
       "       'day_cat_Friday', 'day_cat_Monday', 'day_cat_Saturday',\n",
       "       'day_cat_Sunday', 'day_cat_Thursday', 'day_cat_Tuesday',\n",
       "       'day_cat_Wednesday', 'Special_day_0', 'Special_day_1',\n",
       "       'payment_types_Card', 'payment_types_Cash', 'payment_types_Other'],\n",
       "      dtype='object')"
      ]
     },
     "execution_count": 259,
     "metadata": {},
     "output_type": "execute_result"
    }
   ],
   "source": [
    "df_final.columns"
   ]
  },
  {
   "cell_type": "code",
   "execution_count": 260,
   "metadata": {},
   "outputs": [
    {
     "data": {
      "text/plain": [
       "Index(['trip_seconds', 'trip_miles', 'trip_total', 'pickup_latitude',\n",
       "       'pickup_longitude', 'dropoff_latitude', 'dropoff_longitude',\n",
       "       'hourfloat', 'hourfloat_sin', 'hourfloat_cos', 'day_num', 'day_sin',\n",
       "       'day_cos', 'yearfloat', 'year_cos', 'year_sin', 'monthfloat',\n",
       "       'month_cos', 'month_sin', 'PRCP', 'SNWD', 'SNOW', 'TMAX', 'AWND',\n",
       "       'companies_Choice Taxi Association',\n",
       "       'companies_Dispatch Taxi Affiliation',\n",
       "       'companies_KOAM Taxi Association', 'companies_Northwest Management LLC',\n",
       "       'companies_Taxi Affiliation Services', 'companies_other',\n",
       "       'day_cat_Friday', 'day_cat_Monday', 'day_cat_Saturday',\n",
       "       'day_cat_Sunday', 'day_cat_Thursday', 'day_cat_Tuesday',\n",
       "       'day_cat_Wednesday', 'Special_day_0', 'Special_day_1',\n",
       "       'payment_types_Card', 'payment_types_Cash', 'payment_types_Other'],\n",
       "      dtype='object')"
      ]
     },
     "execution_count": 260,
     "metadata": {},
     "output_type": "execute_result"
    }
   ],
   "source": [
    "df_final_test.columns"
   ]
  },
  {
   "cell_type": "code",
   "execution_count": 261,
   "metadata": {},
   "outputs": [
    {
     "name": "stdout",
     "output_type": "stream",
     "text": [
      "\n",
      "\n",
      "Model Metrics..........       Training     Validation\n",
      "Observations...........          33776           4923\n",
      "Coefficients...........             42             42\n",
      "DF Error...............          33734           4881\n",
      "R-Squared..............         0.5258         0.5294\n",
      "RMSE...................         3.0326         3.2577\n"
     ]
    }
   ],
   "source": [
    "predictor_space=df_final.drop('trip_total',axis=1)\n",
    "\n",
    "lr=LinearRegression()\n",
    "X=np.asarray(df_final.drop('trip_total',axis=1))   \n",
    "y= np.asarray(df_final['trip_total'])\n",
    "\n",
    "Xt=np.asarray(df_final_test.drop('trip_total',axis=1))   \n",
    "yt= np.asarray(df_final_test['trip_total'])\n",
    "lr.fit(X,y)\n",
    "\n",
    "def display_metrics(lr, X, y):\n",
    "        predictions = lr.predict(X)\n",
    "        print(\"\\nModel Metrics\")\n",
    "        print(\"{:.<23s}{:15d}\".format('Observations', X.shape[0]))\n",
    "        print(\"{:.<23s}{:15d}\".format('Coefficients', X.shape[1]+1))\n",
    "        print(\"{:.<23s}{:15d}\".format('DF Error', X.shape[0]-X.shape[1]-1))\n",
    "        R2 = r2_score(y, predictions)\n",
    "        print(\"{:.<23s}{:15.4f}\".format('R-Squared', R2))\n",
    "        print(\"{:.<23s}{:15.4f}\".format('Avg Squared Error', \\\n",
    "                      mean_squared_error(y,predictions)))\n",
    "        print(\"{:.<23s}{:15.4f}\".format('Square Root ASE', \\\n",
    "                      math.sqrt(mean_squared_error(y,predictions))))\n",
    "        \n",
    "def display_split_metrics(lr, Xt, yt, Xv, yv):\n",
    "        predict_t = lr.predict(Xt)\n",
    "        predict_v = lr.predict(Xv)\n",
    "        print(\"\\n\")\n",
    "        print(\"{:.<23s}{:>15s}{:>15s}\".format('Model Metrics', \\\n",
    "                                      'Training', 'Validation'))\n",
    "        print(\"{:.<23s}{:15d}{:15d}\".format('Observations', \\\n",
    "                                          Xt.shape[0], Xv.shape[0]))\n",
    "        print(\"{:.<23s}{:15d}{:15d}\".format('Coefficients', \\\n",
    "                                          Xt.shape[1]+1, Xv.shape[1]+1))\n",
    "        print(\"{:.<23s}{:15d}{:15d}\".format('DF Error', \\\n",
    "                      Xt.shape[0]-Xt.shape[1]-1, Xv.shape[0]-Xv.shape[1]-1))\n",
    "        R2t = r2_score(yt, predict_t)\n",
    "        R2v = r2_score(yv, predict_v)\n",
    "        print(\"{:.<23s}{:15.4f}{:15.4f}\".format('R-Squared', R2t, R2v))\n",
    "        print(\"{:.<23s}{:15.4f}{:15.4f}\".format('RMSE', \\\n",
    "                      math.sqrt(mean_squared_error(yt,predict_t)), \\\n",
    "                      math.sqrt(mean_squared_error(yv,predict_v))))\n",
    "        \n",
    "display_split_metrics(lr, X, y, Xt, yt)"
   ]
  },
  {
   "cell_type": "code",
   "execution_count": 74,
   "metadata": {},
   "outputs": [],
   "source": [
    "x"
   ]
  },
  {
   "cell_type": "code",
   "execution_count": 27,
   "metadata": {},
   "outputs": [],
   "source": [
    "X=np.asarray(df_final.drop('trip_total',axis=1))   \n",
    "y= np.asarray(df_final['trip_total'])\n",
    "\n",
    "Xt=np.asarray(df_final_test.drop('trip_total',axis=1))   \n",
    "yt= np.asarray(df_final_test['trip_total'])"
   ]
  },
  {
   "cell_type": "code",
   "execution_count": 48,
   "metadata": {},
   "outputs": [],
   "source": [
    "rfc = RandomForestRegressor(n_estimators=10, \\\n",
    "                    max_depth=50, min_samples_split=2, \\\n",
    "                    min_samples_leaf=1, max_features='auto', \\\n",
    "                    n_jobs=1, bootstrap=True, random_state=12345)\n",
    "rfc= rfc.fit(X, y)"
   ]
  },
  {
   "cell_type": "code",
   "execution_count": 55,
   "metadata": {},
   "outputs": [],
   "source": [
    "y_pred= rfc.predict(Xt)"
   ]
  },
  {
   "cell_type": "code",
   "execution_count": 63,
   "metadata": {},
   "outputs": [
    {
     "name": "stdout",
     "output_type": "stream",
     "text": [
      "The rmse of prediction is: 2.748899461094746\n",
      "The R2 score of prediction is: 0.6649417622867426\n"
     ]
    }
   ],
   "source": [
    "print('The rmse of prediction is:', mean_squared_error(yt, y_pred) ** 0.5)\n",
    "print('The R2 score of prediction is:', r2_score(yt, y_pred))"
   ]
  },
  {
   "cell_type": "code",
   "execution_count": 57,
   "metadata": {},
   "outputs": [
    {
     "data": {
      "text/plain": [
       "0.6649417622867426"
      ]
     },
     "execution_count": 57,
     "metadata": {},
     "output_type": "execute_result"
    }
   ],
   "source": [
    "rfc.score(Xt,yt)"
   ]
  },
  {
   "cell_type": "code",
   "execution_count": 60,
   "metadata": {},
   "outputs": [
    {
     "data": {
      "text/plain": [
       "0.0004062563477554337"
      ]
     },
     "execution_count": 60,
     "metadata": {},
     "output_type": "execute_result"
    }
   ],
   "source": [
    "np.mean(yt.ravel() == rfc.predict(Xt))"
   ]
  },
  {
   "cell_type": "code",
   "execution_count": 262,
   "metadata": {
    "scrolled": false
   },
   "outputs": [
    {
     "name": "stdout",
     "output_type": "stream",
     "text": [
      "Fitting 5 folds for each of 1 candidates, totalling 5 fits\n",
      "[CV] max_depth=50, max_features=auto, n_estimators=50 ................\n",
      "[CV]  max_depth=50, max_features=auto, n_estimators=50, score=-5.560454 -  10.7s\n",
      "[CV] max_depth=50, max_features=auto, n_estimators=50 ................\n"
     ]
    },
    {
     "name": "stderr",
     "output_type": "stream",
     "text": [
      "[Parallel(n_jobs=1)]: Done   1 out of   1 | elapsed:   10.7s remaining:    0.0s\n"
     ]
    },
    {
     "name": "stdout",
     "output_type": "stream",
     "text": [
      "[CV]  max_depth=50, max_features=auto, n_estimators=50, score=-4.304793 -  14.7s\n",
      "[CV] max_depth=50, max_features=auto, n_estimators=50 ................\n"
     ]
    },
    {
     "name": "stderr",
     "output_type": "stream",
     "text": [
      "[Parallel(n_jobs=1)]: Done   2 out of   2 | elapsed:   25.5s remaining:    0.0s\n"
     ]
    },
    {
     "name": "stdout",
     "output_type": "stream",
     "text": [
      "[CV]  max_depth=50, max_features=auto, n_estimators=50, score=-3.882028 -  13.8s\n",
      "[CV] max_depth=50, max_features=auto, n_estimators=50 ................\n",
      "[CV]  max_depth=50, max_features=auto, n_estimators=50, score=-4.927748 -  13.3s\n",
      "[CV] max_depth=50, max_features=auto, n_estimators=50 ................\n",
      "[CV]  max_depth=50, max_features=auto, n_estimators=50, score=-8.082303 -  12.1s\n"
     ]
    },
    {
     "name": "stderr",
     "output_type": "stream",
     "text": [
      "[Parallel(n_jobs=1)]: Done   5 out of   5 | elapsed:  1.1min finished\n"
     ]
    },
    {
     "name": "stdout",
     "output_type": "stream",
     "text": [
      "BEST {'max_depth': 50, 'max_features': 'auto', 'n_estimators': 50} -5.351471499027713 [mean: -5.35147, std: 1.47888, params: {'max_depth': 50, 'max_features': 'auto', 'n_estimators': 50}] make_scorer(mean_squared_error, greater_is_better=False)\n",
      "Best score:  -5.351471499027713\n",
      "############# based on standard predict ################\n",
      "R^2 on training data: 0.9667\n",
      "R^2 on test data:     0.6886\n",
      "RMSE = 2.650 (this is in log-space!)\n",
      "So two thirds of the records would be a factor of less than 446.68 \taway from the real value.\n"
     ]
    },
    {
     "data": {
      "text/plain": [
       "[('trip_miles', 0.3735388411222219),\n",
       " ('trip_seconds', 0.2453465630679262),\n",
       " ('day_num', 0.036689531518594054),\n",
       " ('year_cos', 0.03607105341623485),\n",
       " ('hourfloat', 0.03162420121324782),\n",
       " ('hourfloat_cos', 0.031536245361991656),\n",
       " ('day_cos', 0.024416904726646108),\n",
       " ('dropoff_longitude', 0.01948967670875828),\n",
       " ('hourfloat_sin', 0.019193579860401697),\n",
       " ('day_sin', 0.018841642075004838),\n",
       " ('yearfloat', 0.017775420847361348),\n",
       " ('pickup_longitude', 0.017290750362062072),\n",
       " ('TMAX', 0.01695791542241292),\n",
       " ('pickup_latitude', 0.01639340300574509),\n",
       " ('year_sin', 0.016166857927784745),\n",
       " ('AWND', 0.01587416510154178),\n",
       " ('dropoff_latitude', 0.015865063905601887),\n",
       " ('payment_types_Card', 0.01063101915600979),\n",
       " ('PRCP', 0.007427708740120232),\n",
       " ('payment_types_Cash', 0.004969008490941632),\n",
       " ('month_sin', 0.0026478292941731294),\n",
       " ('month_cos', 0.002080919561107453),\n",
       " ('companies_other', 0.0019635575257404368),\n",
       " ('SNWD', 0.0019114076460425098),\n",
       " ('monthfloat', 0.0017523922254493987),\n",
       " ('companies_Taxi Affiliation Services', 0.0016200744176922393),\n",
       " ('SNOW', 0.0015877205876508632),\n",
       " ('companies_Dispatch Taxi Affiliation', 0.001455539143452151),\n",
       " ('day_cat_Sunday', 0.0014430977161385436),\n",
       " ('day_cat_Thursday', 0.0012241217911765148),\n",
       " ('companies_Choice Taxi Association', 0.0009562778464435018),\n",
       " ('day_cat_Tuesday', 0.000946326464332434),\n",
       " ('day_cat_Friday', 0.0006579341559703501),\n",
       " ('Special_day_1', 0.0005984785633763958),\n",
       " ('Special_day_0', 0.0005957998932767457),\n",
       " ('companies_Northwest Management LLC', 0.0005795654392896208),\n",
       " ('day_cat_Saturday', 0.00048343981588654024),\n",
       " ('companies_KOAM Taxi Association', 0.0004460787418951377),\n",
       " ('day_cat_Monday', 0.0004366437003851526),\n",
       " ('day_cat_Wednesday', 0.00037590021966946857),\n",
       " ('payment_types_Other', 0.00013734322024234563)]"
      ]
     },
     "execution_count": 262,
     "metadata": {},
     "output_type": "execute_result"
    }
   ],
   "source": [
    "import warnings\n",
    "warnings.filterwarnings(\"ignore\")\n",
    "estimator = RandomForestRegressor(n_estimators=20, n_jobs=-1)\n",
    "\n",
    "\n",
    "# Funtion for cross-validation over a grid of parameters\n",
    "\n",
    "def cv_optimize(clf, parameters, X, y, n_jobs=1, n_folds=5, score_func=None, \\\n",
    "                verbose=0):\n",
    "    if score_func:\n",
    "        gs = GridSearchCV(clf, param_grid=parameters, cv=n_folds, \\\n",
    "                          n_jobs=n_jobs, scoring=score_func, verbose=verbose)\n",
    "    else:\n",
    "        gs = GridSearchCV(clf, param_grid=parameters, n_jobs=n_jobs,\\\n",
    "                         cv=n_folds, verbose=verbose)\n",
    "    gs.fit(X, y)\n",
    "    print (\"BEST\", gs.best_params_, gs.best_score_, gs.grid_scores_,\\\n",
    "            gs.scorer_)\n",
    "    print (\"Best score: \", gs.best_score_)\n",
    "    best = gs.best_estimator_\n",
    "    return best\n",
    "\n",
    "# Define a grid of parameters over which to optimize the random forest\n",
    "# We will figure out which number of trees is optimal\n",
    "parameters = {\"n_estimators\": [10,20,30],\n",
    "              \"max_features\":  [\"auto\",\"sqrt\",\"log2\"]\n",
    "              \"max_depth\": [50]}\n",
    "best = cv_optimize(estimator, parameters, X, y, n_folds=5,\\\n",
    "                    score_func='mean_squared_error', verbose=3)\n",
    "\n",
    "\n",
    "# Fit the best Random Forest and calculate R^2 values for training and test sets\n",
    "reg=best.fit(X, y)\n",
    "training_accuracy = reg.score(X, y)\n",
    "test_accuracy = reg.score(Xt, yt)\n",
    "print (\"############# based on standard predict ################\")\n",
    "print (\"R^2 on training data: %0.4f\" % (training_accuracy))\n",
    "print (\"R^2 on test data:     %0.4f\" % (test_accuracy))\n",
    "\n",
    "\n",
    "# Calculate the Root Mean Squared Error\n",
    "rmse = np.sqrt(mean_squared_error(reg.predict(Xt),yt))\n",
    "print (\"RMSE = %0.3f (this is in log-space!)\" % rmse)\n",
    "print (\"So two thirds of the records would be a factor of less than %0.2f \\\n",
    "\taway from the real value.\" % np.power(10,rmse))\n",
    "\n",
    "import operator\n",
    "dict_feat_imp = dict(zip(list(predictor_space.columns.values),reg.feature_importances_))\n",
    "\n",
    "sorted_features = sorted(dict_feat_imp.items(), key=operator.itemgetter(1), reverse=True)\n",
    "sorted_features"
   ]
  },
  {
   "cell_type": "code",
   "execution_count": 230,
   "metadata": {},
   "outputs": [],
   "source": [
    "csv=pd.DataFrame(sorted_features)"
   ]
  },
  {
   "cell_type": "code",
   "execution_count": 220,
   "metadata": {},
   "outputs": [],
   "source": [
    "csv.to_csv(\"RF_weekly.csv\")"
   ]
  },
  {
   "cell_type": "code",
   "execution_count": 167,
   "metadata": {},
   "outputs": [
    {
     "data": {
      "text/plain": [
       "<Figure size 432x288 with 0 Axes>"
      ]
     },
     "metadata": {},
     "output_type": "display_data"
    },
    {
     "data": {
      "image/png": "[encoded data removed]",
      "text/plain": [
       "<Figure size 576x576 with 1 Axes>"
      ]
     },
     "metadata": {},
     "output_type": "display_data"
    }
   ],
   "source": [
    "plt.figure();\n",
    "csv[[0,1]].tail(10).plot(kind='barh', x=0, y=1,legend=False, figsize=(8, 8));"
   ]
  },
  {
   "cell_type": "code",
   "execution_count": 19,
   "metadata": {},
   "outputs": [],
   "source": [
    "params = {\n",
    "    'boosting_type': 'gbdt',\n",
    "    'objective': 'regression',\n",
    "    'metric': 'auc',\n",
    "    'num_leaves': 60,\n",
    "    'learning_rate': 0.01,\n",
    "    'bagging_fraction': 0.85,\n",
    "    'bagging_freq': 20,\n",
    "    'verbose': 1,\n",
    "    'max_bin':200\n",
    "    }"
   ]
  },
  {
   "cell_type": "code",
   "execution_count": 129,
   "metadata": {},
   "outputs": [],
   "source": [
    "X=df_final.drop('trip_total',axis=1).copy() \n",
    "y= df_final['trip_total'].copy()\n",
    "\n",
    "Xt=df_final_test.drop('trip_total',axis=1).copy() \n",
    "yt= df_final_test['trip_total'].copy()"
   ]
  },
  {
   "cell_type": "code",
   "execution_count": 66,
   "metadata": {},
   "outputs": [],
   "source": [
    "lgb_train = lgb.Dataset(X, y)"
   ]
  },
  {
   "cell_type": "code",
   "execution_count": 67,
   "metadata": {},
   "outputs": [],
   "source": [
    "gbm = lgb.train(params,\n",
    "                lgb_train,\n",
    "                num_boost_round=1000)"
   ]
  },
  {
   "cell_type": "code",
   "execution_count": 68,
   "metadata": {},
   "outputs": [],
   "source": [
    "y_pred = gbm.predict(Xt, num_iteration=gbm.best_iteration)"
   ]
  },
  {
   "cell_type": "code",
   "execution_count": null,
   "metadata": {},
   "outputs": [],
   "source": []
  },
  {
   "cell_type": "code",
   "execution_count": 69,
   "metadata": {},
   "outputs": [
    {
     "name": "stdout",
     "output_type": "stream",
     "text": [
      "The rmse of prediction is: 2.4222848480135117\n"
     ]
    }
   ],
   "source": [
    "print('The rmse of prediction is:', mean_squared_error(yt, y_pred) ** 0.5)"
   ]
  },
  {
   "cell_type": "code",
   "execution_count": 70,
   "metadata": {},
   "outputs": [
    {
     "name": "stdout",
     "output_type": "stream",
     "text": [
      "The R2 score of prediction is: 0.7398325185575463\n"
     ]
    }
   ],
   "source": [
    "print('The R2 score of prediction is:', r2_score(yt, y_pred))"
   ]
  },
  {
   "cell_type": "code",
   "execution_count": 60,
   "metadata": {},
   "outputs": [],
   "source": [
    "gain = gbm.feature_importance('gain')"
   ]
  },
  {
   "cell_type": "code",
   "execution_count": 61,
   "metadata": {},
   "outputs": [
    {
     "name": "stdout",
     "output_type": "stream",
     "text": [
      "               feature       gain  split\n",
      "33      day_cat_Friday   0.049832     81\n",
      "23         Special_day   0.071349    213\n",
      "36      day_cat_Sunday   0.080945     40\n",
      "19                SNWD   0.110918    509\n",
      "17           month_sin   0.137492    270\n",
      "18                PRCP   0.260952   1223\n",
      "31  payment_types_Cash   0.347165    313\n",
      "22                AWND   0.552628   2629\n",
      "21                TMAX   0.827084   2974\n",
      "14            year_sin   0.874747   2611\n",
      "4     dropoff_latitude   1.233444   2849\n",
      "2      pickup_latitude   1.246615   2618\n",
      "10             day_sin   1.329220   2774\n",
      "3     pickup_longitude   1.365145   2369\n",
      "5    dropoff_longitude   1.398045   2458\n",
      "12           yearfloat   1.726752   3572\n",
      "30  payment_types_Card   1.726773   1167\n",
      "7        hourfloat_sin   1.795506   2677\n",
      "11             day_cos   1.947181   2787\n",
      "8        hourfloat_cos   2.499452   2284\n",
      "13            year_cos   3.510427   4431\n",
      "9              day_num   3.763217   3566\n",
      "6            hourfloat   4.165057   4649\n",
      "0         trip_seconds  27.112790   3986\n",
      "1           trip_miles  41.622674   4915\n"
     ]
    }
   ],
   "source": [
    "ft = pd.DataFrame({'feature':gbm.feature_name(), 'split':gbm.feature_importance('split'), 'gain':100 * gain / gain.sum()}).sort_values('gain', ascending=True)\n",
    "print(ft.tail(25))"
   ]
  },
  {
   "cell_type": "code",
   "execution_count": 64,
   "metadata": {},
   "outputs": [
    {
     "data": {
      "text/plain": [
       "<Figure size 432x288 with 0 Axes>"
      ]
     },
     "metadata": {},
     "output_type": "display_data"
    },
    {
     "data": {
      "image/png": "[encoded data removed]",
      "text/plain": [
       "<Figure size 576x576 with 1 Axes>"
      ]
     },
     "metadata": {},
     "output_type": "display_data"
    }
   ],
   "source": [
    "plt.figure();\n",
    "ft[['feature','gain']].tail(10).plot(kind='barh', x='feature', y='gain', legend=False, figsize=(8, 8));"
   ]
  },
  {
   "cell_type": "code",
   "execution_count": 15,
   "metadata": {},
   "outputs": [],
   "source": [
    "predictor_space=df_final.drop('trip_total',axis=1)"
   ]
  },
  {
   "cell_type": "code",
   "execution_count": 13,
   "metadata": {},
   "outputs": [],
   "source": [
    "from lightgbm import LGBMRegressor"
   ]
  },
  {
   "cell_type": "code",
   "execution_count": 264,
   "metadata": {},
   "outputs": [
    {
     "name": "stdout",
     "output_type": "stream",
     "text": [
      "Fitting 5 folds for each of 8 candidates, totalling 40 fits\n",
      "[CV] bagging_fraction=0.85, bagging_freq=20, boosting_type=gbdt, learning_rate=0.01, max_bin=200, metric=auc, num_leaves=20, objective=regression, verbose=1 \n",
      "[CV]  bagging_fraction=0.85, bagging_freq=20, boosting_type=gbdt, learning_rate=0.01, max_bin=200, metric=auc, num_leaves=20, objective=regression, verbose=1, score=-4.838368 -   6.5s\n",
      "[CV] bagging_fraction=0.85, bagging_freq=20, boosting_type=gbdt, learning_rate=0.01, max_bin=200, metric=auc, num_leaves=20, objective=regression, verbose=1 \n"
     ]
    },
    {
     "name": "stderr",
     "output_type": "stream",
     "text": [
      "[Parallel(n_jobs=1)]: Done   1 out of   1 | elapsed:    6.5s remaining:    0.0s\n"
     ]
    },
    {
     "name": "stdout",
     "output_type": "stream",
     "text": [
      "[CV]  bagging_fraction=0.85, bagging_freq=20, boosting_type=gbdt, learning_rate=0.01, max_bin=200, metric=auc, num_leaves=20, objective=regression, verbose=1, score=-3.662879 -   5.9s\n",
      "[CV] bagging_fraction=0.85, bagging_freq=20, boosting_type=gbdt, learning_rate=0.01, max_bin=200, metric=auc, num_leaves=20, objective=regression, verbose=1 \n"
     ]
    },
    {
     "name": "stderr",
     "output_type": "stream",
     "text": [
      "[Parallel(n_jobs=1)]: Done   2 out of   2 | elapsed:   12.6s remaining:    0.0s\n"
     ]
    },
    {
     "name": "stdout",
     "output_type": "stream",
     "text": [
      "[CV]  bagging_fraction=0.85, bagging_freq=20, boosting_type=gbdt, learning_rate=0.01, max_bin=200, metric=auc, num_leaves=20, objective=regression, verbose=1, score=-3.301323 -   5.5s\n",
      "[CV] bagging_fraction=0.85, bagging_freq=20, boosting_type=gbdt, learning_rate=0.01, max_bin=200, metric=auc, num_leaves=20, objective=regression, verbose=1 \n",
      "[CV]  bagging_fraction=0.85, bagging_freq=20, boosting_type=gbdt, learning_rate=0.01, max_bin=200, metric=auc, num_leaves=20, objective=regression, verbose=1, score=-4.357384 -   5.6s\n",
      "[CV] bagging_fraction=0.85, bagging_freq=20, boosting_type=gbdt, learning_rate=0.01, max_bin=200, metric=auc, num_leaves=20, objective=regression, verbose=1 \n",
      "[CV]  bagging_fraction=0.85, bagging_freq=20, boosting_type=gbdt, learning_rate=0.01, max_bin=200, metric=auc, num_leaves=20, objective=regression, verbose=1, score=-7.544558 -   5.6s\n",
      "[CV] bagging_fraction=0.85, bagging_freq=20, boosting_type=gbdt, learning_rate=0.01, max_bin=200, metric=auc, num_leaves=40, objective=regression, verbose=1 \n",
      "[CV]  bagging_fraction=0.85, bagging_freq=20, boosting_type=gbdt, learning_rate=0.01, max_bin=200, metric=auc, num_leaves=40, objective=regression, verbose=1, score=-4.689254 -   7.8s\n",
      "[CV] bagging_fraction=0.85, bagging_freq=20, boosting_type=gbdt, learning_rate=0.01, max_bin=200, metric=auc, num_leaves=40, objective=regression, verbose=1 \n",
      "[CV]  bagging_fraction=0.85, bagging_freq=20, boosting_type=gbdt, learning_rate=0.01, max_bin=200, metric=auc, num_leaves=40, objective=regression, verbose=1, score=-3.507687 -   8.7s\n",
      "[CV] bagging_fraction=0.85, bagging_freq=20, boosting_type=gbdt, learning_rate=0.01, max_bin=200, metric=auc, num_leaves=40, objective=regression, verbose=1 \n",
      "[CV]  bagging_fraction=0.85, bagging_freq=20, boosting_type=gbdt, learning_rate=0.01, max_bin=200, metric=auc, num_leaves=40, objective=regression, verbose=1, score=-3.139651 -   9.1s\n",
      "[CV] bagging_fraction=0.85, bagging_freq=20, boosting_type=gbdt, learning_rate=0.01, max_bin=200, metric=auc, num_leaves=40, objective=regression, verbose=1 \n",
      "[CV]  bagging_fraction=0.85, bagging_freq=20, boosting_type=gbdt, learning_rate=0.01, max_bin=200, metric=auc, num_leaves=40, objective=regression, verbose=1, score=-4.249775 -   9.4s\n",
      "[CV] bagging_fraction=0.85, bagging_freq=20, boosting_type=gbdt, learning_rate=0.01, max_bin=200, metric=auc, num_leaves=40, objective=regression, verbose=1 \n",
      "[CV]  bagging_fraction=0.85, bagging_freq=20, boosting_type=gbdt, learning_rate=0.01, max_bin=200, metric=auc, num_leaves=40, objective=regression, verbose=1, score=-7.341802 -   9.6s\n",
      "[CV] bagging_fraction=0.85, bagging_freq=20, boosting_type=gbdt, learning_rate=0.01, max_bin=200, metric=auc, num_leaves=60, objective=regression, verbose=1 \n",
      "[CV]  bagging_fraction=0.85, bagging_freq=20, boosting_type=gbdt, learning_rate=0.01, max_bin=200, metric=auc, num_leaves=60, objective=regression, verbose=1, score=-4.663175 -  11.7s\n",
      "[CV] bagging_fraction=0.85, bagging_freq=20, boosting_type=gbdt, learning_rate=0.01, max_bin=200, metric=auc, num_leaves=60, objective=regression, verbose=1 \n",
      "[CV]  bagging_fraction=0.85, bagging_freq=20, boosting_type=gbdt, learning_rate=0.01, max_bin=200, metric=auc, num_leaves=60, objective=regression, verbose=1, score=-3.467779 -  11.8s\n",
      "[CV] bagging_fraction=0.85, bagging_freq=20, boosting_type=gbdt, learning_rate=0.01, max_bin=200, metric=auc, num_leaves=60, objective=regression, verbose=1 \n",
      "[CV]  bagging_fraction=0.85, bagging_freq=20, boosting_type=gbdt, learning_rate=0.01, max_bin=200, metric=auc, num_leaves=60, objective=regression, verbose=1, score=-3.100295 -  11.7s\n",
      "[CV] bagging_fraction=0.85, bagging_freq=20, boosting_type=gbdt, learning_rate=0.01, max_bin=200, metric=auc, num_leaves=60, objective=regression, verbose=1 \n",
      "[CV]  bagging_fraction=0.85, bagging_freq=20, boosting_type=gbdt, learning_rate=0.01, max_bin=200, metric=auc, num_leaves=60, objective=regression, verbose=1, score=-4.191652 -  11.9s\n",
      "[CV] bagging_fraction=0.85, bagging_freq=20, boosting_type=gbdt, learning_rate=0.01, max_bin=200, metric=auc, num_leaves=60, objective=regression, verbose=1 \n",
      "[CV]  bagging_fraction=0.85, bagging_freq=20, boosting_type=gbdt, learning_rate=0.01, max_bin=200, metric=auc, num_leaves=60, objective=regression, verbose=1, score=-7.293014 -  12.3s\n",
      "[CV] bagging_fraction=0.85, bagging_freq=20, boosting_type=gbdt, learning_rate=0.01, max_bin=200, metric=auc, num_leaves=80, objective=regression, verbose=1 \n",
      "[CV]  bagging_fraction=0.85, bagging_freq=20, boosting_type=gbdt, learning_rate=0.01, max_bin=200, metric=auc, num_leaves=80, objective=regression, verbose=1, score=-4.665987 -  14.1s\n",
      "[CV] bagging_fraction=0.85, bagging_freq=20, boosting_type=gbdt, learning_rate=0.01, max_bin=200, metric=auc, num_leaves=80, objective=regression, verbose=1 \n",
      "[CV]  bagging_fraction=0.85, bagging_freq=20, boosting_type=gbdt, learning_rate=0.01, max_bin=200, metric=auc, num_leaves=80, objective=regression, verbose=1, score=-3.461538 -  14.0s\n",
      "[CV] bagging_fraction=0.85, bagging_freq=20, boosting_type=gbdt, learning_rate=0.01, max_bin=200, metric=auc, num_leaves=80, objective=regression, verbose=1 \n",
      "[CV]  bagging_fraction=0.85, bagging_freq=20, boosting_type=gbdt, learning_rate=0.01, max_bin=200, metric=auc, num_leaves=80, objective=regression, verbose=1, score=-3.096868 -  21.3s\n",
      "[CV] bagging_fraction=0.85, bagging_freq=20, boosting_type=gbdt, learning_rate=0.01, max_bin=200, metric=auc, num_leaves=80, objective=regression, verbose=1 \n",
      "[CV]  bagging_fraction=0.85, bagging_freq=20, boosting_type=gbdt, learning_rate=0.01, max_bin=200, metric=auc, num_leaves=80, objective=regression, verbose=1, score=-4.166624 -  21.3s\n",
      "[CV] bagging_fraction=0.85, bagging_freq=20, boosting_type=gbdt, learning_rate=0.01, max_bin=200, metric=auc, num_leaves=80, objective=regression, verbose=1 \n",
      "[CV]  bagging_fraction=0.85, bagging_freq=20, boosting_type=gbdt, learning_rate=0.01, max_bin=200, metric=auc, num_leaves=80, objective=regression, verbose=1, score=-7.284743 -  17.4s\n",
      "[CV] bagging_fraction=0.85, bagging_freq=20, boosting_type=gbdt, learning_rate=0.1, max_bin=200, metric=auc, num_leaves=20, objective=regression, verbose=1 \n",
      "[CV]  bagging_fraction=0.85, bagging_freq=20, boosting_type=gbdt, learning_rate=0.1, max_bin=200, metric=auc, num_leaves=20, objective=regression, verbose=1, score=-4.746160 -   5.4s\n",
      "[CV] bagging_fraction=0.85, bagging_freq=20, boosting_type=gbdt, learning_rate=0.1, max_bin=200, metric=auc, num_leaves=20, objective=regression, verbose=1 \n",
      "[CV]  bagging_fraction=0.85, bagging_freq=20, boosting_type=gbdt, learning_rate=0.1, max_bin=200, metric=auc, num_leaves=20, objective=regression, verbose=1, score=-3.441352 -   5.5s\n",
      "[CV] bagging_fraction=0.85, bagging_freq=20, boosting_type=gbdt, learning_rate=0.1, max_bin=200, metric=auc, num_leaves=20, objective=regression, verbose=1 \n",
      "[CV]  bagging_fraction=0.85, bagging_freq=20, boosting_type=gbdt, learning_rate=0.1, max_bin=200, metric=auc, num_leaves=20, objective=regression, verbose=1, score=-3.094582 -   5.3s\n",
      "[CV] bagging_fraction=0.85, bagging_freq=20, boosting_type=gbdt, learning_rate=0.1, max_bin=200, metric=auc, num_leaves=20, objective=regression, verbose=1 \n",
      "[CV]  bagging_fraction=0.85, bagging_freq=20, boosting_type=gbdt, learning_rate=0.1, max_bin=200, metric=auc, num_leaves=20, objective=regression, verbose=1, score=-4.217503 -   5.9s\n",
      "[CV] bagging_fraction=0.85, bagging_freq=20, boosting_type=gbdt, learning_rate=0.1, max_bin=200, metric=auc, num_leaves=20, objective=regression, verbose=1 \n",
      "[CV]  bagging_fraction=0.85, bagging_freq=20, boosting_type=gbdt, learning_rate=0.1, max_bin=200, metric=auc, num_leaves=20, objective=regression, verbose=1, score=-7.300663 -   6.3s\n",
      "[CV] bagging_fraction=0.85, bagging_freq=20, boosting_type=gbdt, learning_rate=0.1, max_bin=200, metric=auc, num_leaves=40, objective=regression, verbose=1 \n",
      "[CV]  bagging_fraction=0.85, bagging_freq=20, boosting_type=gbdt, learning_rate=0.1, max_bin=200, metric=auc, num_leaves=40, objective=regression, verbose=1, score=-4.917508 -   8.0s\n",
      "[CV] bagging_fraction=0.85, bagging_freq=20, boosting_type=gbdt, learning_rate=0.1, max_bin=200, metric=auc, num_leaves=40, objective=regression, verbose=1 \n"
     ]
    },
    {
     "name": "stdout",
     "output_type": "stream",
     "text": [
      "[CV]  bagging_fraction=0.85, bagging_freq=20, boosting_type=gbdt, learning_rate=0.1, max_bin=200, metric=auc, num_leaves=40, objective=regression, verbose=1, score=-3.502556 -   7.4s\n",
      "[CV] bagging_fraction=0.85, bagging_freq=20, boosting_type=gbdt, learning_rate=0.1, max_bin=200, metric=auc, num_leaves=40, objective=regression, verbose=1 \n",
      "[CV]  bagging_fraction=0.85, bagging_freq=20, boosting_type=gbdt, learning_rate=0.1, max_bin=200, metric=auc, num_leaves=40, objective=regression, verbose=1, score=-3.200807 -   8.7s\n",
      "[CV] bagging_fraction=0.85, bagging_freq=20, boosting_type=gbdt, learning_rate=0.1, max_bin=200, metric=auc, num_leaves=40, objective=regression, verbose=1 \n",
      "[CV]  bagging_fraction=0.85, bagging_freq=20, boosting_type=gbdt, learning_rate=0.1, max_bin=200, metric=auc, num_leaves=40, objective=regression, verbose=1, score=-4.382397 -   8.0s\n",
      "[CV] bagging_fraction=0.85, bagging_freq=20, boosting_type=gbdt, learning_rate=0.1, max_bin=200, metric=auc, num_leaves=40, objective=regression, verbose=1 \n",
      "[CV]  bagging_fraction=0.85, bagging_freq=20, boosting_type=gbdt, learning_rate=0.1, max_bin=200, metric=auc, num_leaves=40, objective=regression, verbose=1, score=-7.314839 -   8.2s\n",
      "[CV] bagging_fraction=0.85, bagging_freq=20, boosting_type=gbdt, learning_rate=0.1, max_bin=200, metric=auc, num_leaves=60, objective=regression, verbose=1 \n",
      "[CV]  bagging_fraction=0.85, bagging_freq=20, boosting_type=gbdt, learning_rate=0.1, max_bin=200, metric=auc, num_leaves=60, objective=regression, verbose=1, score=-4.907211 -   9.8s\n",
      "[CV] bagging_fraction=0.85, bagging_freq=20, boosting_type=gbdt, learning_rate=0.1, max_bin=200, metric=auc, num_leaves=60, objective=regression, verbose=1 \n",
      "[CV]  bagging_fraction=0.85, bagging_freq=20, boosting_type=gbdt, learning_rate=0.1, max_bin=200, metric=auc, num_leaves=60, objective=regression, verbose=1, score=-3.582276 -  11.1s\n",
      "[CV] bagging_fraction=0.85, bagging_freq=20, boosting_type=gbdt, learning_rate=0.1, max_bin=200, metric=auc, num_leaves=60, objective=regression, verbose=1 \n",
      "[CV]  bagging_fraction=0.85, bagging_freq=20, boosting_type=gbdt, learning_rate=0.1, max_bin=200, metric=auc, num_leaves=60, objective=regression, verbose=1, score=-3.193278 -   9.9s\n",
      "[CV] bagging_fraction=0.85, bagging_freq=20, boosting_type=gbdt, learning_rate=0.1, max_bin=200, metric=auc, num_leaves=60, objective=regression, verbose=1 \n",
      "[CV]  bagging_fraction=0.85, bagging_freq=20, boosting_type=gbdt, learning_rate=0.1, max_bin=200, metric=auc, num_leaves=60, objective=regression, verbose=1, score=-4.394255 -  10.5s\n",
      "[CV] bagging_fraction=0.85, bagging_freq=20, boosting_type=gbdt, learning_rate=0.1, max_bin=200, metric=auc, num_leaves=60, objective=regression, verbose=1 \n",
      "[CV]  bagging_fraction=0.85, bagging_freq=20, boosting_type=gbdt, learning_rate=0.1, max_bin=200, metric=auc, num_leaves=60, objective=regression, verbose=1, score=-7.362756 -   9.4s\n",
      "[CV] bagging_fraction=0.85, bagging_freq=20, boosting_type=gbdt, learning_rate=0.1, max_bin=200, metric=auc, num_leaves=80, objective=regression, verbose=1 \n",
      "[CV]  bagging_fraction=0.85, bagging_freq=20, boosting_type=gbdt, learning_rate=0.1, max_bin=200, metric=auc, num_leaves=80, objective=regression, verbose=1, score=-4.962379 -  11.6s\n",
      "[CV] bagging_fraction=0.85, bagging_freq=20, boosting_type=gbdt, learning_rate=0.1, max_bin=200, metric=auc, num_leaves=80, objective=regression, verbose=1 \n",
      "[CV]  bagging_fraction=0.85, bagging_freq=20, boosting_type=gbdt, learning_rate=0.1, max_bin=200, metric=auc, num_leaves=80, objective=regression, verbose=1, score=-3.629511 -  11.0s\n",
      "[CV] bagging_fraction=0.85, bagging_freq=20, boosting_type=gbdt, learning_rate=0.1, max_bin=200, metric=auc, num_leaves=80, objective=regression, verbose=1 \n",
      "[CV]  bagging_fraction=0.85, bagging_freq=20, boosting_type=gbdt, learning_rate=0.1, max_bin=200, metric=auc, num_leaves=80, objective=regression, verbose=1, score=-3.209091 -  10.4s\n",
      "[CV] bagging_fraction=0.85, bagging_freq=20, boosting_type=gbdt, learning_rate=0.1, max_bin=200, metric=auc, num_leaves=80, objective=regression, verbose=1 \n",
      "[CV]  bagging_fraction=0.85, bagging_freq=20, boosting_type=gbdt, learning_rate=0.1, max_bin=200, metric=auc, num_leaves=80, objective=regression, verbose=1, score=-4.419229 -  12.1s\n",
      "[CV] bagging_fraction=0.85, bagging_freq=20, boosting_type=gbdt, learning_rate=0.1, max_bin=200, metric=auc, num_leaves=80, objective=regression, verbose=1 \n",
      "[CV]  bagging_fraction=0.85, bagging_freq=20, boosting_type=gbdt, learning_rate=0.1, max_bin=200, metric=auc, num_leaves=80, objective=regression, verbose=1, score=-7.425859 -  12.6s\n"
     ]
    },
    {
     "name": "stderr",
     "output_type": "stream",
     "text": [
      "[Parallel(n_jobs=1)]: Done  40 out of  40 | elapsed:  6.7min finished\n"
     ]
    },
    {
     "name": "stdout",
     "output_type": "stream",
     "text": [
      "BEST {'bagging_fraction': 0.85, 'bagging_freq': 20, 'boosting_type': 'gbdt', 'learning_rate': 0.01, 'max_bin': 200, 'metric': 'auc', 'num_leaves': 80, 'objective': 'regression', 'verbose': 1} -4.535155652554211 [mean: -4.74091, std: 1.50011, params: {'bagging_fraction': 0.85, 'bagging_freq': 20, 'boosting_type': 'gbdt', 'learning_rate': 0.01, 'max_bin': 200, 'metric': 'auc', 'num_leaves': 20, 'objective': 'regression', 'verbose': 1}, mean: -4.58564, std: 1.48141, params: {'bagging_fraction': 0.85, 'bagging_freq': 20, 'boosting_type': 'gbdt', 'learning_rate': 0.01, 'max_bin': 200, 'metric': 'auc', 'num_leaves': 40, 'objective': 'regression', 'verbose': 1}, mean: -4.54319, std: 1.47905, params: {'bagging_fraction': 0.85, 'bagging_freq': 20, 'boosting_type': 'gbdt', 'learning_rate': 0.01, 'max_bin': 200, 'metric': 'auc', 'num_leaves': 60, 'objective': 'regression', 'verbose': 1}, mean: -4.53516, std: 1.47882, params: {'bagging_fraction': 0.85, 'bagging_freq': 20, 'boosting_type': 'gbdt', 'learning_rate': 0.01, 'max_bin': 200, 'metric': 'auc', 'num_leaves': 80, 'objective': 'regression', 'verbose': 1}, mean: -4.56006, std: 1.48742, params: {'bagging_fraction': 0.85, 'bagging_freq': 20, 'boosting_type': 'gbdt', 'learning_rate': 0.1, 'max_bin': 200, 'metric': 'auc', 'num_leaves': 20, 'objective': 'regression', 'verbose': 1}, mean: -4.66363, std: 1.46016, params: {'bagging_fraction': 0.85, 'bagging_freq': 20, 'boosting_type': 'gbdt', 'learning_rate': 0.1, 'max_bin': 200, 'metric': 'auc', 'num_leaves': 40, 'objective': 'regression', 'verbose': 1}, mean: -4.68796, std: 1.46598, params: {'bagging_fraction': 0.85, 'bagging_freq': 20, 'boosting_type': 'gbdt', 'learning_rate': 0.1, 'max_bin': 200, 'metric': 'auc', 'num_leaves': 60, 'objective': 'regression', 'verbose': 1}, mean: -4.72922, std: 1.47936, params: {'bagging_fraction': 0.85, 'bagging_freq': 20, 'boosting_type': 'gbdt', 'learning_rate': 0.1, 'max_bin': 200, 'metric': 'auc', 'num_leaves': 80, 'objective': 'regression', 'verbose': 1}] make_scorer(mean_squared_error, greater_is_better=False)\n",
      "Best score:  -4.535155652554211\n",
      "############# based on standard predict ################\n",
      "R^2 on training data: 0.8796\n",
      "R^2 on test data:     0.7405\n",
      "RMSE = 2.419 (this is in log-space!)\n",
      "So two thirds of the records would be a factor of less than 262.46 \taway from the real value.\n"
     ]
    },
    {
     "data": {
      "text/plain": [
       "[('year_cos', 6110),\n",
       " ('hourfloat', 6028),\n",
       " ('trip_miles', 6019),\n",
       " ('trip_seconds', 4987),\n",
       " ('yearfloat', 4804),\n",
       " ('day_num', 4589),\n",
       " ('TMAX', 4311),\n",
       " ('dropoff_latitude', 3998),\n",
       " ('day_cos', 3928),\n",
       " ('day_sin', 3660),\n",
       " ('year_sin', 3644),\n",
       " ('AWND', 3595),\n",
       " ('dropoff_longitude', 3519),\n",
       " ('hourfloat_sin', 3509),\n",
       " ('pickup_latitude', 3476),\n",
       " ('pickup_longitude', 3182),\n",
       " ('hourfloat_cos', 2961),\n",
       " ('PRCP', 1816),\n",
       " ('payment_types_Card', 1388),\n",
       " ('SNWD', 679),\n",
       " ('payment_types_Cash', 437),\n",
       " ('month_sin', 361),\n",
       " ('SNOW', 311),\n",
       " ('companies_other', 281),\n",
       " ('Special_day_0', 265),\n",
       " ('companies_Taxi Affiliation Services', 201),\n",
       " ('monthfloat', 153),\n",
       " ('day_cat_Thursday', 140),\n",
       " ('companies_Dispatch Taxi Affiliation', 118),\n",
       " ('day_cat_Monday', 113),\n",
       " ('day_cat_Tuesday', 110),\n",
       " ('day_cat_Friday', 99),\n",
       " ('companies_Northwest Management LLC', 76),\n",
       " ('day_cat_Sunday', 52),\n",
       " ('companies_Choice Taxi Association', 41),\n",
       " ('payment_types_Other', 20),\n",
       " ('day_cat_Wednesday', 11),\n",
       " ('day_cat_Saturday', 5),\n",
       " ('Special_day_1', 2),\n",
       " ('companies_KOAM Taxi Association', 1),\n",
       " ('month_cos', 0)]"
      ]
     },
     "execution_count": 264,
     "metadata": {},
     "output_type": "execute_result"
    }
   ],
   "source": [
    "import warnings\n",
    "warnings.filterwarnings(\"ignore\")\n",
    "estimator = LGBMRegressor(num_boost_round=1000, n_jobs=-1)\n",
    "\n",
    "\n",
    "# Funtion for cross-validation over a grid of parameters\n",
    "\n",
    "def cv_optimize(clf, parameters, X, y, n_jobs=1, n_folds=10, score_func=None, \\\n",
    "                verbose=0):\n",
    "    if score_func:\n",
    "        gs = GridSearchCV(clf, param_grid=parameters, cv=n_folds, \\\n",
    "                          n_jobs=n_jobs, scoring=score_func, verbose=verbose)\n",
    "    else:\n",
    "        gs = GridSearchCV(clf, param_grid=parameters, n_jobs=n_jobs,\\\n",
    "                         cv=n_folds, verbose=verbose)\n",
    "    gs.fit(X, y)\n",
    "    print (\"BEST\", gs.best_params_, gs.best_score_, gs.grid_scores_,\\\n",
    "            gs.scorer_)\n",
    "    print (\"Best score: \", gs.best_score_)\n",
    "    best = gs.best_estimator_\n",
    "    return best\n",
    "\n",
    "# Define a grid of parameters over which to optimize the random forest\n",
    "# We will figure out which number of trees is optimal\n",
    "parameters = {'boosting_type': ['gbdt'],\n",
    "            'objective': ['regression'],\n",
    "            'metric': ['auc'],\n",
    "            'num_leaves': [20,40,60,80],\n",
    "            'learning_rate': [0.01,0.1],\n",
    "            'bagging_fraction': [0.85],\n",
    "            'bagging_freq': [20],\n",
    "            'verbose': [1],\n",
    "            'max_bin':[200]}\n",
    "best = cv_optimize(estimator, parameters, X, y, n_folds=5,\\\n",
    "                    score_func='mean_squared_error', verbose=3)\n",
    "\n",
    "\n",
    "# Fit the best Random Forest and calculate R^2 values for training and test sets\n",
    "reg=best.fit(X, y)\n",
    "training_accuracy = reg.score(X, y)\n",
    "test_accuracy = reg.score(Xt, yt)\n",
    "print (\"############# based on standard predict ################\")\n",
    "print (\"R^2 on training data: %0.4f\" % (training_accuracy))\n",
    "print (\"R^2 on test data:     %0.4f\" % (test_accuracy))\n",
    "\n",
    "\n",
    "# Calculate the Root Mean Squared Error\n",
    "rmse = np.sqrt(mean_squared_error(reg.predict(Xt),yt))\n",
    "print (\"RMSE = %0.3f (this is in log-space!)\" % rmse)\n",
    "print (\"So two thirds of the records would be a factor of less than %0.2f \\\n",
    "\taway from the real value.\" % np.power(10,rmse))\n",
    "\n",
    "import operator\n",
    "dict_feat_imp = dict(zip(list(predictor_space.columns.values),reg.feature_importances_))\n",
    "\n",
    "sorted_features = sorted(dict_feat_imp.items(), key=operator.itemgetter(1), reverse=True)\n",
    "sorted_features"
   ]
  },
  {
   "cell_type": "code",
   "execution_count": 222,
   "metadata": {},
   "outputs": [],
   "source": [
    "csv=pd.DataFrame(sorted_features)\n",
    "csv.to_csv(\"LGB_weekly.csv\")"
   ]
  },
  {
   "cell_type": "code",
   "execution_count": 265,
   "metadata": {},
   "outputs": [
    {
     "data": {
      "text/plain": [
       "1.5277472903338416"
      ]
     },
     "execution_count": 265,
     "metadata": {},
     "output_type": "execute_result"
    }
   ],
   "source": [
    "np.sqrt(mean_squared_error(reg.predict(X),y))"
   ]
  },
  {
   "cell_type": "code",
   "execution_count": 189,
   "metadata": {},
   "outputs": [
    {
     "data": {
      "text/plain": [
       "<Figure size 432x288 with 0 Axes>"
      ]
     },
     "metadata": {},
     "output_type": "display_data"
    },
    {
     "data": {
      "image/png": "[encoded data removed]",
      "text/plain": [
       "<Figure size 576x576 with 1 Axes>"
      ]
     },
     "metadata": {},
     "output_type": "display_data"
    }
   ],
   "source": [
    "plt.figure();\n",
    "pd.DataFrame(sorted_features)[[0,1]].head(10).plot(kind='barh', x=0, y=1,legend=False, figsize=(8, 8));"
   ]
  },
  {
   "cell_type": "code",
   "execution_count": 69,
   "metadata": {},
   "outputs": [
    {
     "ename": "LightGBMError",
     "evalue": "b'Parameter max_bin should be of type int, got \"50,100,200\"'",
     "output_type": "error",
     "traceback": [
      "\u001b[1;31m---------------------------------------------------------------------------\u001b[0m",
      "\u001b[1;31mLightGBMError\u001b[0m                             Traceback (most recent call last)",
      "\u001b[1;32m<ipython-input-69-16a52d55294c>\u001b[0m in \u001b[0;36m<module>\u001b[1;34m()\u001b[0m\n\u001b[0;32m      1\u001b[0m cv_results = lgb.cv(parameters, lgb_train, num_boost_round=1000, nfold=10, \n\u001b[1;32m----> 2\u001b[1;33m                     verbose_eval=20, early_stopping_rounds=40, stratified=False)\n\u001b[0m",
      "\u001b[1;32m~\\Anaconda3\\lib\\site-packages\\lightgbm\\engine.py\u001b[0m in \u001b[0;36mcv\u001b[1;34m(params, train_set, num_boost_round, folds, nfold, stratified, shuffle, metrics, fobj, feval, init_model, feature_name, categorical_feature, early_stopping_rounds, fpreproc, verbose_eval, show_stdv, seed, callbacks)\u001b[0m\n\u001b[0;32m    416\u001b[0m     cvfolds = _make_n_folds(train_set, folds=folds, nfold=nfold,\n\u001b[0;32m    417\u001b[0m                             \u001b[0mparams\u001b[0m\u001b[1;33m=\u001b[0m\u001b[0mparams\u001b[0m\u001b[1;33m,\u001b[0m \u001b[0mseed\u001b[0m\u001b[1;33m=\u001b[0m\u001b[0mseed\u001b[0m\u001b[1;33m,\u001b[0m \u001b[0mfpreproc\u001b[0m\u001b[1;33m=\u001b[0m\u001b[0mfpreproc\u001b[0m\u001b[1;33m,\u001b[0m\u001b[1;33m\u001b[0m\u001b[0m\n\u001b[1;32m--> 418\u001b[1;33m                             stratified=stratified, shuffle=shuffle)\n\u001b[0m\u001b[0;32m    419\u001b[0m \u001b[1;33m\u001b[0m\u001b[0m\n\u001b[0;32m    420\u001b[0m     \u001b[1;31m# setup callbacks\u001b[0m\u001b[1;33m\u001b[0m\u001b[1;33m\u001b[0m\u001b[0m\n",
      "\u001b[1;32m~\\Anaconda3\\lib\\site-packages\\lightgbm\\engine.py\u001b[0m in \u001b[0;36m_make_n_folds\u001b[1;34m(full_data, folds, nfold, params, seed, fpreproc, stratified, shuffle)\u001b[0m\n\u001b[0;32m    291\u001b[0m         \u001b[1;32melse\u001b[0m\u001b[1;33m:\u001b[0m\u001b[1;33m\u001b[0m\u001b[0m\n\u001b[0;32m    292\u001b[0m             \u001b[0mtparam\u001b[0m \u001b[1;33m=\u001b[0m \u001b[0mparams\u001b[0m\u001b[1;33m\u001b[0m\u001b[0m\n\u001b[1;32m--> 293\u001b[1;33m         \u001b[0mcvbooster\u001b[0m \u001b[1;33m=\u001b[0m \u001b[0mBooster\u001b[0m\u001b[1;33m(\u001b[0m\u001b[0mtparam\u001b[0m\u001b[1;33m,\u001b[0m \u001b[0mtrain_set\u001b[0m\u001b[1;33m)\u001b[0m\u001b[1;33m\u001b[0m\u001b[0m\n\u001b[0m\u001b[0;32m    294\u001b[0m         \u001b[0mcvbooster\u001b[0m\u001b[1;33m.\u001b[0m\u001b[0madd_valid\u001b[0m\u001b[1;33m(\u001b[0m\u001b[0mvalid_set\u001b[0m\u001b[1;33m,\u001b[0m \u001b[1;34m'valid'\u001b[0m\u001b[1;33m)\u001b[0m\u001b[1;33m\u001b[0m\u001b[0m\n\u001b[0;32m    295\u001b[0m         \u001b[0mret\u001b[0m\u001b[1;33m.\u001b[0m\u001b[0mappend\u001b[0m\u001b[1;33m(\u001b[0m\u001b[0mcvbooster\u001b[0m\u001b[1;33m)\u001b[0m\u001b[1;33m\u001b[0m\u001b[0m\n",
      "\u001b[1;32m~\\Anaconda3\\lib\\site-packages\\lightgbm\\basic.py\u001b[0m in \u001b[0;36m__init__\u001b[1;34m(self, params, train_set, model_file, silent)\u001b[0m\n\u001b[0;32m   1300\u001b[0m             \u001b[0mself\u001b[0m\u001b[1;33m.\u001b[0m\u001b[0mhandle\u001b[0m \u001b[1;33m=\u001b[0m \u001b[0mctypes\u001b[0m\u001b[1;33m.\u001b[0m\u001b[0mc_void_p\u001b[0m\u001b[1;33m(\u001b[0m\u001b[1;33m)\u001b[0m\u001b[1;33m\u001b[0m\u001b[0m\n\u001b[0;32m   1301\u001b[0m             _safe_call(_LIB.LGBM_BoosterCreate(\n\u001b[1;32m-> 1302\u001b[1;33m                 \u001b[0mtrain_set\u001b[0m\u001b[1;33m.\u001b[0m\u001b[0mconstruct\u001b[0m\u001b[1;33m(\u001b[0m\u001b[1;33m)\u001b[0m\u001b[1;33m.\u001b[0m\u001b[0mhandle\u001b[0m\u001b[1;33m,\u001b[0m\u001b[1;33m\u001b[0m\u001b[0m\n\u001b[0m\u001b[0;32m   1303\u001b[0m                 \u001b[0mc_str\u001b[0m\u001b[1;33m(\u001b[0m\u001b[0mparams_str\u001b[0m\u001b[1;33m)\u001b[0m\u001b[1;33m,\u001b[0m\u001b[1;33m\u001b[0m\u001b[0m\n\u001b[0;32m   1304\u001b[0m                 ctypes.byref(self.handle)))\n",
      "\u001b[1;32m~\\Anaconda3\\lib\\site-packages\\lightgbm\\basic.py\u001b[0m in \u001b[0;36mconstruct\u001b[1;34m(self)\u001b[0m\n\u001b[0;32m    846\u001b[0m                         \u001b[0mctypes\u001b[0m\u001b[1;33m.\u001b[0m\u001b[0mc_int\u001b[0m\u001b[1;33m(\u001b[0m\u001b[0mused_indices\u001b[0m\u001b[1;33m.\u001b[0m\u001b[0mshape\u001b[0m\u001b[1;33m[\u001b[0m\u001b[1;36m0\u001b[0m\u001b[1;33m]\u001b[0m\u001b[1;33m)\u001b[0m\u001b[1;33m,\u001b[0m\u001b[1;33m\u001b[0m\u001b[0m\n\u001b[0;32m    847\u001b[0m                         \u001b[0mc_str\u001b[0m\u001b[1;33m(\u001b[0m\u001b[0mparams_str\u001b[0m\u001b[1;33m)\u001b[0m\u001b[1;33m,\u001b[0m\u001b[1;33m\u001b[0m\u001b[0m\n\u001b[1;32m--> 848\u001b[1;33m                         ctypes.byref(self.handle)))\n\u001b[0m\u001b[0;32m    849\u001b[0m                     \u001b[1;32mif\u001b[0m \u001b[0mself\u001b[0m\u001b[1;33m.\u001b[0m\u001b[0mget_label\u001b[0m\u001b[1;33m(\u001b[0m\u001b[1;33m)\u001b[0m \u001b[1;32mis\u001b[0m \u001b[1;32mNone\u001b[0m\u001b[1;33m:\u001b[0m\u001b[1;33m\u001b[0m\u001b[0m\n\u001b[0;32m    850\u001b[0m                         \u001b[1;32mraise\u001b[0m \u001b[0mValueError\u001b[0m\u001b[1;33m(\u001b[0m\u001b[1;34m\"Label should not be None.\"\u001b[0m\u001b[1;33m)\u001b[0m\u001b[1;33m\u001b[0m\u001b[0m\n",
      "\u001b[1;32m~\\Anaconda3\\lib\\site-packages\\lightgbm\\basic.py\u001b[0m in \u001b[0;36m_safe_call\u001b[1;34m(ret)\u001b[0m\n\u001b[0;32m     46\u001b[0m     \"\"\"\n\u001b[0;32m     47\u001b[0m     \u001b[1;32mif\u001b[0m \u001b[0mret\u001b[0m \u001b[1;33m!=\u001b[0m \u001b[1;36m0\u001b[0m\u001b[1;33m:\u001b[0m\u001b[1;33m\u001b[0m\u001b[0m\n\u001b[1;32m---> 48\u001b[1;33m         \u001b[1;32mraise\u001b[0m \u001b[0mLightGBMError\u001b[0m\u001b[1;33m(\u001b[0m\u001b[0m_LIB\u001b[0m\u001b[1;33m.\u001b[0m\u001b[0mLGBM_GetLastError\u001b[0m\u001b[1;33m(\u001b[0m\u001b[1;33m)\u001b[0m\u001b[1;33m)\u001b[0m\u001b[1;33m\u001b[0m\u001b[0m\n\u001b[0m\u001b[0;32m     49\u001b[0m \u001b[1;33m\u001b[0m\u001b[0m\n\u001b[0;32m     50\u001b[0m \u001b[1;33m\u001b[0m\u001b[0m\n",
      "\u001b[1;31mLightGBMError\u001b[0m: b'Parameter max_bin should be of type int, got \"50,100,200\"'"
     ]
    }
   ],
   "source": [
    "cv_results = lgb.cv(parameters, lgb_train, num_boost_round=1000, nfold=10, \n",
    "                    verbose_eval=20, early_stopping_rounds=40, stratified=False)"
   ]
  },
  {
   "cell_type": "code",
   "execution_count": null,
   "metadata": {},
   "outputs": [],
   "source": []
  }
 ],
 "metadata": {
  "kernelspec": {
   "display_name": "Python 3",
   "language": "python",
   "name": "python3"
  },
  "language_info": {
   "codemirror_mode": {
    "name": "ipython",
    "version": 3
   },
   "file_extension": ".py",
   "mimetype": "text/x-python",
   "name": "python",
   "nbconvert_exporter": "python",
   "pygments_lexer": "ipython3",
   "version": "3.6.4"
  }
 },
 "nbformat": 4,
 "nbformat_minor": 2
}
